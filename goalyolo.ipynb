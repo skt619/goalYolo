{
 "cells": [
  {
   "cell_type": "code",
   "execution_count": 1,
   "id": "bd482bbb",
   "metadata": {
    "execution": {
     "iopub.execute_input": "2023-08-23T00:35:16.574193Z",
     "iopub.status.busy": "2023-08-23T00:35:16.573316Z",
     "iopub.status.idle": "2023-08-23T00:35:16.583063Z",
     "shell.execute_reply": "2023-08-23T00:35:16.581939Z"
    },
    "papermill": {
     "duration": 0.021667,
     "end_time": "2023-08-23T00:35:16.585548",
     "exception": false,
     "start_time": "2023-08-23T00:35:16.563881",
     "status": "completed"
    },
    "tags": []
   },
   "outputs": [],
   "source": [
    "import os\n",
    "from glob import glob # extract path of each file\n",
    "import pandas as pd # data preprocessing\n",
    "from functools import reduce"
   ]
  },
  {
   "cell_type": "code",
   "execution_count": 2,
   "id": "8d38cddc",
   "metadata": {
    "execution": {
     "iopub.execute_input": "2023-08-23T00:35:16.603003Z",
     "iopub.status.busy": "2023-08-23T00:35:16.602286Z",
     "iopub.status.idle": "2023-08-23T00:35:16.652897Z",
     "shell.execute_reply": "2023-08-23T00:35:16.651886Z"
    },
    "papermill": {
     "duration": 0.061989,
     "end_time": "2023-08-23T00:35:16.655648",
     "exception": false,
     "start_time": "2023-08-23T00:35:16.593659",
     "status": "completed"
    },
    "tags": []
   },
   "outputs": [],
   "source": [
    "dfAnno_test = pd.read_csv('/kaggle/input/data-data/test/annotations.csv')\n",
    "dfAnno_train = pd.read_csv('/kaggle/input/data-data/train/annotations.csv')\n",
    "dfAnnoBall_test = dfAnno_test[dfAnno_test[\"class\"] == \"football\"]\n",
    "dfAnnoBall_train = dfAnno_train[dfAnno_train[\"class\"] == \"football\"]"
   ]
  },
  {
   "cell_type": "code",
   "execution_count": 3,
   "id": "40ca5423",
   "metadata": {
    "execution": {
     "iopub.execute_input": "2023-08-23T00:35:16.671768Z",
     "iopub.status.busy": "2023-08-23T00:35:16.671364Z",
     "iopub.status.idle": "2023-08-23T00:35:16.682810Z",
     "shell.execute_reply": "2023-08-23T00:35:16.682053Z"
    },
    "papermill": {
     "duration": 0.021894,
     "end_time": "2023-08-23T00:35:16.684877",
     "exception": false,
     "start_time": "2023-08-23T00:35:16.662983",
     "status": "completed"
    },
    "tags": []
   },
   "outputs": [
    {
     "data": {
      "text/plain": [
       "player      173\n",
       "football     13\n",
       "referee       8\n",
       "Name: class, dtype: int64"
      ]
     },
     "execution_count": 3,
     "metadata": {},
     "output_type": "execute_result"
    }
   ],
   "source": [
    "dfAnno_test['class'].value_counts()"
   ]
  },
  {
   "cell_type": "code",
   "execution_count": 4,
   "id": "7c7dbecc",
   "metadata": {
    "execution": {
     "iopub.execute_input": "2023-08-23T00:35:16.702471Z",
     "iopub.status.busy": "2023-08-23T00:35:16.701260Z",
     "iopub.status.idle": "2023-08-23T00:35:16.710084Z",
     "shell.execute_reply": "2023-08-23T00:35:16.709120Z"
    },
    "papermill": {
     "duration": 0.0202,
     "end_time": "2023-08-23T00:35:16.712479",
     "exception": false,
     "start_time": "2023-08-23T00:35:16.692279",
     "status": "completed"
    },
    "tags": []
   },
   "outputs": [
    {
     "data": {
      "text/plain": [
       "player      1234\n",
       "football     100\n",
       "referee       68\n",
       "Name: class, dtype: int64"
      ]
     },
     "execution_count": 4,
     "metadata": {},
     "output_type": "execute_result"
    }
   ],
   "source": [
    "dfAnno_train['class'].value_counts()"
   ]
  },
  {
   "cell_type": "code",
   "execution_count": 5,
   "id": "790f37e0",
   "metadata": {
    "execution": {
     "iopub.execute_input": "2023-08-23T00:35:16.731305Z",
     "iopub.status.busy": "2023-08-23T00:35:16.730245Z",
     "iopub.status.idle": "2023-08-23T00:35:16.735843Z",
     "shell.execute_reply": "2023-08-23T00:35:16.735075Z"
    },
    "papermill": {
     "duration": 0.016621,
     "end_time": "2023-08-23T00:35:16.738080",
     "exception": false,
     "start_time": "2023-08-23T00:35:16.721459",
     "status": "completed"
    },
    "tags": []
   },
   "outputs": [],
   "source": [
    "imagesToTrain=dfAnnoBall_train[\"filename\"]\n",
    "imagesToTest=dfAnnoBall_test[\"filename\"]"
   ]
  },
  {
   "cell_type": "code",
   "execution_count": 6,
   "id": "41b3bbfd",
   "metadata": {
    "execution": {
     "iopub.execute_input": "2023-08-23T00:35:16.755107Z",
     "iopub.status.busy": "2023-08-23T00:35:16.754336Z",
     "iopub.status.idle": "2023-08-23T00:35:16.763695Z",
     "shell.execute_reply": "2023-08-23T00:35:16.762641Z"
    },
    "papermill": {
     "duration": 0.020225,
     "end_time": "2023-08-23T00:35:16.765835",
     "exception": false,
     "start_time": "2023-08-23T00:35:16.745610",
     "status": "completed"
    },
    "tags": []
   },
   "outputs": [
    {
     "data": {
      "text/plain": [
       "100"
      ]
     },
     "execution_count": 6,
     "metadata": {},
     "output_type": "execute_result"
    }
   ],
   "source": [
    "imagesTrain = dfAnnoBall_train['filename'].unique()\n",
    "len(imagesTrain)"
   ]
  },
  {
   "cell_type": "code",
   "execution_count": 7,
   "id": "793edf50",
   "metadata": {
    "execution": {
     "iopub.execute_input": "2023-08-23T00:35:16.782572Z",
     "iopub.status.busy": "2023-08-23T00:35:16.782174Z",
     "iopub.status.idle": "2023-08-23T00:35:16.788767Z",
     "shell.execute_reply": "2023-08-23T00:35:16.787712Z"
    },
    "papermill": {
     "duration": 0.017607,
     "end_time": "2023-08-23T00:35:16.790911",
     "exception": false,
     "start_time": "2023-08-23T00:35:16.773304",
     "status": "completed"
    },
    "tags": []
   },
   "outputs": [
    {
     "data": {
      "text/plain": [
       "13"
      ]
     },
     "execution_count": 7,
     "metadata": {},
     "output_type": "execute_result"
    }
   ],
   "source": [
    "imagesTest = dfAnnoBall_test['filename'].unique()\n",
    "len(imagesTest)"
   ]
  },
  {
   "cell_type": "code",
   "execution_count": 8,
   "id": "249a4404",
   "metadata": {
    "execution": {
     "iopub.execute_input": "2023-08-23T00:35:16.808084Z",
     "iopub.status.busy": "2023-08-23T00:35:16.807311Z",
     "iopub.status.idle": "2023-08-23T00:35:16.813078Z",
     "shell.execute_reply": "2023-08-23T00:35:16.812278Z"
    },
    "papermill": {
     "duration": 0.017006,
     "end_time": "2023-08-23T00:35:16.815407",
     "exception": false,
     "start_time": "2023-08-23T00:35:16.798401",
     "status": "completed"
    },
    "tags": []
   },
   "outputs": [],
   "source": [
    "imagesTrain_df = pd.DataFrame(imagesTrain,columns=['filename'])\n",
    "img_train = tuple(imagesTrain_df['filename'])"
   ]
  },
  {
   "cell_type": "code",
   "execution_count": 9,
   "id": "f677d978",
   "metadata": {
    "execution": {
     "iopub.execute_input": "2023-08-23T00:35:16.832837Z",
     "iopub.status.busy": "2023-08-23T00:35:16.832409Z",
     "iopub.status.idle": "2023-08-23T00:35:16.839598Z",
     "shell.execute_reply": "2023-08-23T00:35:16.838030Z"
    },
    "papermill": {
     "duration": 0.01898,
     "end_time": "2023-08-23T00:35:16.841914",
     "exception": false,
     "start_time": "2023-08-23T00:35:16.822934",
     "status": "completed"
    },
    "tags": []
   },
   "outputs": [],
   "source": [
    "imagesTest_df = pd.DataFrame(imagesTest,columns=['filename'])\n",
    "img_test = tuple(imagesTest_df['filename'])"
   ]
  },
  {
   "cell_type": "code",
   "execution_count": 10,
   "id": "2cc4adee",
   "metadata": {
    "execution": {
     "iopub.execute_input": "2023-08-23T00:35:16.860765Z",
     "iopub.status.busy": "2023-08-23T00:35:16.859704Z",
     "iopub.status.idle": "2023-08-23T00:35:16.868361Z",
     "shell.execute_reply": "2023-08-23T00:35:16.865756Z"
    },
    "papermill": {
     "duration": 0.020464,
     "end_time": "2023-08-23T00:35:16.871148",
     "exception": false,
     "start_time": "2023-08-23T00:35:16.850684",
     "status": "completed"
    },
    "tags": []
   },
   "outputs": [
    {
     "data": {
      "text/plain": [
       "(100, 13)"
      ]
     },
     "execution_count": 10,
     "metadata": {},
     "output_type": "execute_result"
    }
   ],
   "source": [
    "len(img_train), len(img_test)"
   ]
  },
  {
   "cell_type": "code",
   "execution_count": 11,
   "id": "4a657c15",
   "metadata": {
    "execution": {
     "iopub.execute_input": "2023-08-23T00:35:16.890665Z",
     "iopub.status.busy": "2023-08-23T00:35:16.889919Z",
     "iopub.status.idle": "2023-08-23T00:35:16.903607Z",
     "shell.execute_reply": "2023-08-23T00:35:16.902519Z"
    },
    "papermill": {
     "duration": 0.026235,
     "end_time": "2023-08-23T00:35:16.905984",
     "exception": false,
     "start_time": "2023-08-23T00:35:16.879749",
     "status": "completed"
    },
    "tags": []
   },
   "outputs": [],
   "source": [
    "train_df = dfAnnoBall_train.query(f'filename in {img_train}')\n",
    "test_df = dfAnnoBall_test.query(f'filename in {img_test}')"
   ]
  },
  {
   "cell_type": "code",
   "execution_count": 12,
   "id": "a9f69524",
   "metadata": {
    "execution": {
     "iopub.execute_input": "2023-08-23T00:35:16.927787Z",
     "iopub.status.busy": "2023-08-23T00:35:16.926697Z",
     "iopub.status.idle": "2023-08-23T00:35:16.937465Z",
     "shell.execute_reply": "2023-08-23T00:35:16.936653Z"
    },
    "papermill": {
     "duration": 0.024056,
     "end_time": "2023-08-23T00:35:16.940263",
     "exception": false,
     "start_time": "2023-08-23T00:35:16.916207",
     "status": "completed"
    },
    "tags": []
   },
   "outputs": [],
   "source": [
    "# center x, center y\n",
    "train_df['center_x'] = ((train_df['xmax']+train_df['xmin'])/2)/train_df['width']\n",
    "train_df['center_y'] = ((train_df['ymax']+train_df['ymin'])/2)/train_df['height']\n",
    "# w\n",
    "train_df['w'] = (train_df['xmax']-train_df['xmin'])/train_df['width']\n",
    "# h\n",
    "train_df['h'] = (train_df['ymax']-train_df['ymin'])/train_df['height']"
   ]
  },
  {
   "cell_type": "code",
   "execution_count": 13,
   "id": "af07498b",
   "metadata": {
    "execution": {
     "iopub.execute_input": "2023-08-23T00:35:16.964134Z",
     "iopub.status.busy": "2023-08-23T00:35:16.962866Z",
     "iopub.status.idle": "2023-08-23T00:35:16.985077Z",
     "shell.execute_reply": "2023-08-23T00:35:16.983650Z"
    },
    "papermill": {
     "duration": 0.03752,
     "end_time": "2023-08-23T00:35:16.987975",
     "exception": false,
     "start_time": "2023-08-23T00:35:16.950455",
     "status": "completed"
    },
    "tags": []
   },
   "outputs": [
    {
     "data": {
      "text/html": [
       "<div>\n",
       "<style scoped>\n",
       "    .dataframe tbody tr th:only-of-type {\n",
       "        vertical-align: middle;\n",
       "    }\n",
       "\n",
       "    .dataframe tbody tr th {\n",
       "        vertical-align: top;\n",
       "    }\n",
       "\n",
       "    .dataframe thead th {\n",
       "        text-align: right;\n",
       "    }\n",
       "</style>\n",
       "<table border=\"1\" class=\"dataframe\">\n",
       "  <thead>\n",
       "    <tr style=\"text-align: right;\">\n",
       "      <th></th>\n",
       "      <th>filename</th>\n",
       "      <th>width</th>\n",
       "      <th>height</th>\n",
       "      <th>class</th>\n",
       "      <th>xmin</th>\n",
       "      <th>ymin</th>\n",
       "      <th>xmax</th>\n",
       "      <th>ymax</th>\n",
       "      <th>center_x</th>\n",
       "      <th>center_y</th>\n",
       "      <th>w</th>\n",
       "      <th>h</th>\n",
       "    </tr>\n",
       "  </thead>\n",
       "  <tbody>\n",
       "    <tr>\n",
       "      <th>10</th>\n",
       "      <td>yt1s-com---Resume-Liverpool-01-Burnley-Premier...</td>\n",
       "      <td>1280</td>\n",
       "      <td>720</td>\n",
       "      <td>football</td>\n",
       "      <td>408</td>\n",
       "      <td>401</td>\n",
       "      <td>438</td>\n",
       "      <td>431</td>\n",
       "      <td>0.330469</td>\n",
       "      <td>0.577778</td>\n",
       "      <td>0.023438</td>\n",
       "      <td>0.041667</td>\n",
       "    </tr>\n",
       "    <tr>\n",
       "      <th>25</th>\n",
       "      <td>1-fps-2_00722_jpeg_jpg.rf.099a2974c597239872e5...</td>\n",
       "      <td>398</td>\n",
       "      <td>224</td>\n",
       "      <td>football</td>\n",
       "      <td>243</td>\n",
       "      <td>75</td>\n",
       "      <td>250</td>\n",
       "      <td>80</td>\n",
       "      <td>0.619347</td>\n",
       "      <td>0.345982</td>\n",
       "      <td>0.017588</td>\n",
       "      <td>0.022321</td>\n",
       "    </tr>\n",
       "    <tr>\n",
       "      <th>36</th>\n",
       "      <td>1-fps-2_00045_jpeg_jpg.rf.024d4573e1a8ce924d9e...</td>\n",
       "      <td>398</td>\n",
       "      <td>224</td>\n",
       "      <td>football</td>\n",
       "      <td>95</td>\n",
       "      <td>138</td>\n",
       "      <td>104</td>\n",
       "      <td>147</td>\n",
       "      <td>0.250000</td>\n",
       "      <td>0.636161</td>\n",
       "      <td>0.022613</td>\n",
       "      <td>0.040179</td>\n",
       "    </tr>\n",
       "    <tr>\n",
       "      <th>49</th>\n",
       "      <td>1-fps-2_00005_jpeg_jpg.rf.017542df0a9b465349d4...</td>\n",
       "      <td>398</td>\n",
       "      <td>224</td>\n",
       "      <td>football</td>\n",
       "      <td>243</td>\n",
       "      <td>90</td>\n",
       "      <td>250</td>\n",
       "      <td>96</td>\n",
       "      <td>0.619347</td>\n",
       "      <td>0.415179</td>\n",
       "      <td>0.017588</td>\n",
       "      <td>0.026786</td>\n",
       "    </tr>\n",
       "    <tr>\n",
       "      <th>57</th>\n",
       "      <td>1-fps-2_00038_jpeg_jpg.rf.073d52d4e3a48453caf7...</td>\n",
       "      <td>398</td>\n",
       "      <td>224</td>\n",
       "      <td>football</td>\n",
       "      <td>147</td>\n",
       "      <td>83</td>\n",
       "      <td>155</td>\n",
       "      <td>89</td>\n",
       "      <td>0.379397</td>\n",
       "      <td>0.383929</td>\n",
       "      <td>0.020101</td>\n",
       "      <td>0.026786</td>\n",
       "    </tr>\n",
       "  </tbody>\n",
       "</table>\n",
       "</div>"
      ],
      "text/plain": [
       "                                             filename  width  height  \\\n",
       "10  yt1s-com---Resume-Liverpool-01-Burnley-Premier...   1280     720   \n",
       "25  1-fps-2_00722_jpeg_jpg.rf.099a2974c597239872e5...    398     224   \n",
       "36  1-fps-2_00045_jpeg_jpg.rf.024d4573e1a8ce924d9e...    398     224   \n",
       "49  1-fps-2_00005_jpeg_jpg.rf.017542df0a9b465349d4...    398     224   \n",
       "57  1-fps-2_00038_jpeg_jpg.rf.073d52d4e3a48453caf7...    398     224   \n",
       "\n",
       "       class  xmin  ymin  xmax  ymax  center_x  center_y         w         h  \n",
       "10  football   408   401   438   431  0.330469  0.577778  0.023438  0.041667  \n",
       "25  football   243    75   250    80  0.619347  0.345982  0.017588  0.022321  \n",
       "36  football    95   138   104   147  0.250000  0.636161  0.022613  0.040179  \n",
       "49  football   243    90   250    96  0.619347  0.415179  0.017588  0.026786  \n",
       "57  football   147    83   155    89  0.379397  0.383929  0.020101  0.026786  "
      ]
     },
     "execution_count": 13,
     "metadata": {},
     "output_type": "execute_result"
    }
   ],
   "source": [
    "train_df.head()"
   ]
  },
  {
   "cell_type": "code",
   "execution_count": 14,
   "id": "20358008",
   "metadata": {
    "execution": {
     "iopub.execute_input": "2023-08-23T00:35:17.010306Z",
     "iopub.status.busy": "2023-08-23T00:35:17.009465Z",
     "iopub.status.idle": "2023-08-23T00:35:17.018653Z",
     "shell.execute_reply": "2023-08-23T00:35:17.017830Z"
    },
    "papermill": {
     "duration": 0.02091,
     "end_time": "2023-08-23T00:35:17.021032",
     "exception": false,
     "start_time": "2023-08-23T00:35:17.000122",
     "status": "completed"
    },
    "tags": []
   },
   "outputs": [],
   "source": [
    "# center x, center y\n",
    "test_df['center_x'] = ((test_df['xmax']+test_df['xmin'])/2)/test_df['width']\n",
    "test_df['center_y'] = ((test_df['ymax']+test_df['ymin'])/2)/test_df['height']\n",
    "# w\n",
    "test_df['w'] = (test_df['xmax']-test_df['xmin'])/test_df['width']\n",
    "# h\n",
    "test_df['h'] = (test_df['ymax']-test_df['ymin'])/test_df['height']"
   ]
  },
  {
   "cell_type": "code",
   "execution_count": 15,
   "id": "7ce1d6d8",
   "metadata": {
    "execution": {
     "iopub.execute_input": "2023-08-23T00:35:17.039531Z",
     "iopub.status.busy": "2023-08-23T00:35:17.038318Z",
     "iopub.status.idle": "2023-08-23T00:35:17.053809Z",
     "shell.execute_reply": "2023-08-23T00:35:17.052653Z"
    },
    "papermill": {
     "duration": 0.027121,
     "end_time": "2023-08-23T00:35:17.056115",
     "exception": false,
     "start_time": "2023-08-23T00:35:17.028994",
     "status": "completed"
    },
    "tags": []
   },
   "outputs": [
    {
     "data": {
      "text/html": [
       "<div>\n",
       "<style scoped>\n",
       "    .dataframe tbody tr th:only-of-type {\n",
       "        vertical-align: middle;\n",
       "    }\n",
       "\n",
       "    .dataframe tbody tr th {\n",
       "        vertical-align: top;\n",
       "    }\n",
       "\n",
       "    .dataframe thead th {\n",
       "        text-align: right;\n",
       "    }\n",
       "</style>\n",
       "<table border=\"1\" class=\"dataframe\">\n",
       "  <thead>\n",
       "    <tr style=\"text-align: right;\">\n",
       "      <th></th>\n",
       "      <th>filename</th>\n",
       "      <th>width</th>\n",
       "      <th>height</th>\n",
       "      <th>class</th>\n",
       "      <th>xmin</th>\n",
       "      <th>ymin</th>\n",
       "      <th>xmax</th>\n",
       "      <th>ymax</th>\n",
       "      <th>center_x</th>\n",
       "      <th>center_y</th>\n",
       "      <th>w</th>\n",
       "      <th>h</th>\n",
       "    </tr>\n",
       "  </thead>\n",
       "  <tbody>\n",
       "    <tr>\n",
       "      <th>17</th>\n",
       "      <td>1-fps-2_00339_jpeg_jpg.rf.7a78aba0034a7c3daf39...</td>\n",
       "      <td>398</td>\n",
       "      <td>224</td>\n",
       "      <td>football</td>\n",
       "      <td>216</td>\n",
       "      <td>61</td>\n",
       "      <td>224</td>\n",
       "      <td>69</td>\n",
       "      <td>0.552764</td>\n",
       "      <td>0.290179</td>\n",
       "      <td>0.020101</td>\n",
       "      <td>0.035714</td>\n",
       "    </tr>\n",
       "    <tr>\n",
       "      <th>23</th>\n",
       "      <td>1-fps-2_00014_jpeg_jpg.rf.2d7d526c69632431e3d9...</td>\n",
       "      <td>398</td>\n",
       "      <td>224</td>\n",
       "      <td>football</td>\n",
       "      <td>293</td>\n",
       "      <td>89</td>\n",
       "      <td>299</td>\n",
       "      <td>94</td>\n",
       "      <td>0.743719</td>\n",
       "      <td>0.408482</td>\n",
       "      <td>0.015075</td>\n",
       "      <td>0.022321</td>\n",
       "    </tr>\n",
       "    <tr>\n",
       "      <th>39</th>\n",
       "      <td>1-fps-2_00269_jpeg_jpg.rf.7cafcbbf190500cadd61...</td>\n",
       "      <td>398</td>\n",
       "      <td>224</td>\n",
       "      <td>football</td>\n",
       "      <td>281</td>\n",
       "      <td>103</td>\n",
       "      <td>292</td>\n",
       "      <td>112</td>\n",
       "      <td>0.719849</td>\n",
       "      <td>0.479911</td>\n",
       "      <td>0.027638</td>\n",
       "      <td>0.040179</td>\n",
       "    </tr>\n",
       "    <tr>\n",
       "      <th>55</th>\n",
       "      <td>1-fps-2_00267_jpeg_jpg.rf.1ece704258aa28a27c14...</td>\n",
       "      <td>398</td>\n",
       "      <td>224</td>\n",
       "      <td>football</td>\n",
       "      <td>251</td>\n",
       "      <td>104</td>\n",
       "      <td>259</td>\n",
       "      <td>112</td>\n",
       "      <td>0.640704</td>\n",
       "      <td>0.482143</td>\n",
       "      <td>0.020101</td>\n",
       "      <td>0.035714</td>\n",
       "    </tr>\n",
       "    <tr>\n",
       "      <th>64</th>\n",
       "      <td>1-fps-2_00022_jpeg_jpg.rf.cb129f66c83086ad7333...</td>\n",
       "      <td>398</td>\n",
       "      <td>224</td>\n",
       "      <td>football</td>\n",
       "      <td>168</td>\n",
       "      <td>136</td>\n",
       "      <td>177</td>\n",
       "      <td>145</td>\n",
       "      <td>0.433417</td>\n",
       "      <td>0.627232</td>\n",
       "      <td>0.022613</td>\n",
       "      <td>0.040179</td>\n",
       "    </tr>\n",
       "  </tbody>\n",
       "</table>\n",
       "</div>"
      ],
      "text/plain": [
       "                                             filename  width  height  \\\n",
       "17  1-fps-2_00339_jpeg_jpg.rf.7a78aba0034a7c3daf39...    398     224   \n",
       "23  1-fps-2_00014_jpeg_jpg.rf.2d7d526c69632431e3d9...    398     224   \n",
       "39  1-fps-2_00269_jpeg_jpg.rf.7cafcbbf190500cadd61...    398     224   \n",
       "55  1-fps-2_00267_jpeg_jpg.rf.1ece704258aa28a27c14...    398     224   \n",
       "64  1-fps-2_00022_jpeg_jpg.rf.cb129f66c83086ad7333...    398     224   \n",
       "\n",
       "       class  xmin  ymin  xmax  ymax  center_x  center_y         w         h  \n",
       "17  football   216    61   224    69  0.552764  0.290179  0.020101  0.035714  \n",
       "23  football   293    89   299    94  0.743719  0.408482  0.015075  0.022321  \n",
       "39  football   281   103   292   112  0.719849  0.479911  0.027638  0.040179  \n",
       "55  football   251   104   259   112  0.640704  0.482143  0.020101  0.035714  \n",
       "64  football   168   136   177   145  0.433417  0.627232  0.022613  0.040179  "
      ]
     },
     "execution_count": 15,
     "metadata": {},
     "output_type": "execute_result"
    }
   ],
   "source": [
    "test_df.head()"
   ]
  },
  {
   "cell_type": "code",
   "execution_count": 16,
   "id": "65aca7b6",
   "metadata": {
    "execution": {
     "iopub.execute_input": "2023-08-23T00:35:17.074357Z",
     "iopub.status.busy": "2023-08-23T00:35:17.073738Z",
     "iopub.status.idle": "2023-08-23T00:35:17.078459Z",
     "shell.execute_reply": "2023-08-23T00:35:17.077697Z"
    },
    "papermill": {
     "duration": 0.016458,
     "end_time": "2023-08-23T00:35:17.080626",
     "exception": false,
     "start_time": "2023-08-23T00:35:17.064168",
     "status": "completed"
    },
    "tags": []
   },
   "outputs": [],
   "source": [
    "# label encoding\n",
    "def label_encoding(x):\n",
    "    labels = {'football':0}\n",
    "    return labels[x]"
   ]
  },
  {
   "cell_type": "code",
   "execution_count": 17,
   "id": "df5bc780",
   "metadata": {
    "execution": {
     "iopub.execute_input": "2023-08-23T00:35:17.099339Z",
     "iopub.status.busy": "2023-08-23T00:35:17.098674Z",
     "iopub.status.idle": "2023-08-23T00:35:17.105482Z",
     "shell.execute_reply": "2023-08-23T00:35:17.104651Z"
    },
    "papermill": {
     "duration": 0.018784,
     "end_time": "2023-08-23T00:35:17.107655",
     "exception": false,
     "start_time": "2023-08-23T00:35:17.088871",
     "status": "completed"
    },
    "tags": []
   },
   "outputs": [],
   "source": [
    "train_df['id'] = train_df['class'].apply(label_encoding)\n",
    "test_df['id'] = test_df['class'].apply(label_encoding)"
   ]
  },
  {
   "cell_type": "code",
   "execution_count": 18,
   "id": "1df06280",
   "metadata": {
    "execution": {
     "iopub.execute_input": "2023-08-23T00:35:17.126180Z",
     "iopub.status.busy": "2023-08-23T00:35:17.125549Z",
     "iopub.status.idle": "2023-08-23T00:35:17.141980Z",
     "shell.execute_reply": "2023-08-23T00:35:17.140799Z"
    },
    "papermill": {
     "duration": 0.028606,
     "end_time": "2023-08-23T00:35:17.144493",
     "exception": false,
     "start_time": "2023-08-23T00:35:17.115887",
     "status": "completed"
    },
    "tags": []
   },
   "outputs": [
    {
     "data": {
      "text/html": [
       "<div>\n",
       "<style scoped>\n",
       "    .dataframe tbody tr th:only-of-type {\n",
       "        vertical-align: middle;\n",
       "    }\n",
       "\n",
       "    .dataframe tbody tr th {\n",
       "        vertical-align: top;\n",
       "    }\n",
       "\n",
       "    .dataframe thead th {\n",
       "        text-align: right;\n",
       "    }\n",
       "</style>\n",
       "<table border=\"1\" class=\"dataframe\">\n",
       "  <thead>\n",
       "    <tr style=\"text-align: right;\">\n",
       "      <th></th>\n",
       "      <th>filename</th>\n",
       "      <th>width</th>\n",
       "      <th>height</th>\n",
       "      <th>class</th>\n",
       "      <th>xmin</th>\n",
       "      <th>ymin</th>\n",
       "      <th>xmax</th>\n",
       "      <th>ymax</th>\n",
       "      <th>center_x</th>\n",
       "      <th>center_y</th>\n",
       "      <th>w</th>\n",
       "      <th>h</th>\n",
       "      <th>id</th>\n",
       "    </tr>\n",
       "  </thead>\n",
       "  <tbody>\n",
       "    <tr>\n",
       "      <th>10</th>\n",
       "      <td>yt1s-com---Resume-Liverpool-01-Burnley-Premier...</td>\n",
       "      <td>1280</td>\n",
       "      <td>720</td>\n",
       "      <td>football</td>\n",
       "      <td>408</td>\n",
       "      <td>401</td>\n",
       "      <td>438</td>\n",
       "      <td>431</td>\n",
       "      <td>0.330469</td>\n",
       "      <td>0.577778</td>\n",
       "      <td>0.023438</td>\n",
       "      <td>0.041667</td>\n",
       "      <td>0</td>\n",
       "    </tr>\n",
       "    <tr>\n",
       "      <th>25</th>\n",
       "      <td>1-fps-2_00722_jpeg_jpg.rf.099a2974c597239872e5...</td>\n",
       "      <td>398</td>\n",
       "      <td>224</td>\n",
       "      <td>football</td>\n",
       "      <td>243</td>\n",
       "      <td>75</td>\n",
       "      <td>250</td>\n",
       "      <td>80</td>\n",
       "      <td>0.619347</td>\n",
       "      <td>0.345982</td>\n",
       "      <td>0.017588</td>\n",
       "      <td>0.022321</td>\n",
       "      <td>0</td>\n",
       "    </tr>\n",
       "    <tr>\n",
       "      <th>36</th>\n",
       "      <td>1-fps-2_00045_jpeg_jpg.rf.024d4573e1a8ce924d9e...</td>\n",
       "      <td>398</td>\n",
       "      <td>224</td>\n",
       "      <td>football</td>\n",
       "      <td>95</td>\n",
       "      <td>138</td>\n",
       "      <td>104</td>\n",
       "      <td>147</td>\n",
       "      <td>0.250000</td>\n",
       "      <td>0.636161</td>\n",
       "      <td>0.022613</td>\n",
       "      <td>0.040179</td>\n",
       "      <td>0</td>\n",
       "    </tr>\n",
       "    <tr>\n",
       "      <th>49</th>\n",
       "      <td>1-fps-2_00005_jpeg_jpg.rf.017542df0a9b465349d4...</td>\n",
       "      <td>398</td>\n",
       "      <td>224</td>\n",
       "      <td>football</td>\n",
       "      <td>243</td>\n",
       "      <td>90</td>\n",
       "      <td>250</td>\n",
       "      <td>96</td>\n",
       "      <td>0.619347</td>\n",
       "      <td>0.415179</td>\n",
       "      <td>0.017588</td>\n",
       "      <td>0.026786</td>\n",
       "      <td>0</td>\n",
       "    </tr>\n",
       "    <tr>\n",
       "      <th>57</th>\n",
       "      <td>1-fps-2_00038_jpeg_jpg.rf.073d52d4e3a48453caf7...</td>\n",
       "      <td>398</td>\n",
       "      <td>224</td>\n",
       "      <td>football</td>\n",
       "      <td>147</td>\n",
       "      <td>83</td>\n",
       "      <td>155</td>\n",
       "      <td>89</td>\n",
       "      <td>0.379397</td>\n",
       "      <td>0.383929</td>\n",
       "      <td>0.020101</td>\n",
       "      <td>0.026786</td>\n",
       "      <td>0</td>\n",
       "    </tr>\n",
       "    <tr>\n",
       "      <th>67</th>\n",
       "      <td>yt1s-com---Resume-Liverpool-01-Burnley-Premier...</td>\n",
       "      <td>1280</td>\n",
       "      <td>720</td>\n",
       "      <td>football</td>\n",
       "      <td>224</td>\n",
       "      <td>449</td>\n",
       "      <td>253</td>\n",
       "      <td>477</td>\n",
       "      <td>0.186328</td>\n",
       "      <td>0.643056</td>\n",
       "      <td>0.022656</td>\n",
       "      <td>0.038889</td>\n",
       "      <td>0</td>\n",
       "    </tr>\n",
       "    <tr>\n",
       "      <th>78</th>\n",
       "      <td>1-fps-2_00049_jpeg_jpg.rf.0dba8e746d7b9d95ff11...</td>\n",
       "      <td>398</td>\n",
       "      <td>224</td>\n",
       "      <td>football</td>\n",
       "      <td>169</td>\n",
       "      <td>144</td>\n",
       "      <td>177</td>\n",
       "      <td>152</td>\n",
       "      <td>0.434673</td>\n",
       "      <td>0.660714</td>\n",
       "      <td>0.020101</td>\n",
       "      <td>0.035714</td>\n",
       "      <td>0</td>\n",
       "    </tr>\n",
       "    <tr>\n",
       "      <th>92</th>\n",
       "      <td>yt1s-com---Resume-Tottenham-20-West-Bromwich-P...</td>\n",
       "      <td>1280</td>\n",
       "      <td>720</td>\n",
       "      <td>football</td>\n",
       "      <td>885</td>\n",
       "      <td>449</td>\n",
       "      <td>903</td>\n",
       "      <td>472</td>\n",
       "      <td>0.698438</td>\n",
       "      <td>0.639583</td>\n",
       "      <td>0.014063</td>\n",
       "      <td>0.031944</td>\n",
       "      <td>0</td>\n",
       "    </tr>\n",
       "    <tr>\n",
       "      <th>103</th>\n",
       "      <td>yt1s-com---Resume-Liverpool-14-Manchester-City...</td>\n",
       "      <td>1280</td>\n",
       "      <td>720</td>\n",
       "      <td>football</td>\n",
       "      <td>521</td>\n",
       "      <td>260</td>\n",
       "      <td>547</td>\n",
       "      <td>287</td>\n",
       "      <td>0.417187</td>\n",
       "      <td>0.379861</td>\n",
       "      <td>0.020313</td>\n",
       "      <td>0.037500</td>\n",
       "      <td>0</td>\n",
       "    </tr>\n",
       "    <tr>\n",
       "      <th>112</th>\n",
       "      <td>1-fps-2_00036_jpeg_jpg.rf.1ec0d97bec4830cd5629...</td>\n",
       "      <td>398</td>\n",
       "      <td>224</td>\n",
       "      <td>football</td>\n",
       "      <td>147</td>\n",
       "      <td>80</td>\n",
       "      <td>154</td>\n",
       "      <td>86</td>\n",
       "      <td>0.378141</td>\n",
       "      <td>0.370536</td>\n",
       "      <td>0.017588</td>\n",
       "      <td>0.026786</td>\n",
       "      <td>0</td>\n",
       "    </tr>\n",
       "  </tbody>\n",
       "</table>\n",
       "</div>"
      ],
      "text/plain": [
       "                                              filename  width  height  \\\n",
       "10   yt1s-com---Resume-Liverpool-01-Burnley-Premier...   1280     720   \n",
       "25   1-fps-2_00722_jpeg_jpg.rf.099a2974c597239872e5...    398     224   \n",
       "36   1-fps-2_00045_jpeg_jpg.rf.024d4573e1a8ce924d9e...    398     224   \n",
       "49   1-fps-2_00005_jpeg_jpg.rf.017542df0a9b465349d4...    398     224   \n",
       "57   1-fps-2_00038_jpeg_jpg.rf.073d52d4e3a48453caf7...    398     224   \n",
       "67   yt1s-com---Resume-Liverpool-01-Burnley-Premier...   1280     720   \n",
       "78   1-fps-2_00049_jpeg_jpg.rf.0dba8e746d7b9d95ff11...    398     224   \n",
       "92   yt1s-com---Resume-Tottenham-20-West-Bromwich-P...   1280     720   \n",
       "103  yt1s-com---Resume-Liverpool-14-Manchester-City...   1280     720   \n",
       "112  1-fps-2_00036_jpeg_jpg.rf.1ec0d97bec4830cd5629...    398     224   \n",
       "\n",
       "        class  xmin  ymin  xmax  ymax  center_x  center_y         w         h  \\\n",
       "10   football   408   401   438   431  0.330469  0.577778  0.023438  0.041667   \n",
       "25   football   243    75   250    80  0.619347  0.345982  0.017588  0.022321   \n",
       "36   football    95   138   104   147  0.250000  0.636161  0.022613  0.040179   \n",
       "49   football   243    90   250    96  0.619347  0.415179  0.017588  0.026786   \n",
       "57   football   147    83   155    89  0.379397  0.383929  0.020101  0.026786   \n",
       "67   football   224   449   253   477  0.186328  0.643056  0.022656  0.038889   \n",
       "78   football   169   144   177   152  0.434673  0.660714  0.020101  0.035714   \n",
       "92   football   885   449   903   472  0.698438  0.639583  0.014063  0.031944   \n",
       "103  football   521   260   547   287  0.417187  0.379861  0.020313  0.037500   \n",
       "112  football   147    80   154    86  0.378141  0.370536  0.017588  0.026786   \n",
       "\n",
       "     id  \n",
       "10    0  \n",
       "25    0  \n",
       "36    0  \n",
       "49    0  \n",
       "57    0  \n",
       "67    0  \n",
       "78    0  \n",
       "92    0  \n",
       "103   0  \n",
       "112   0  "
      ]
     },
     "execution_count": 18,
     "metadata": {},
     "output_type": "execute_result"
    }
   ],
   "source": [
    "train_df.head(10)"
   ]
  },
  {
   "cell_type": "code",
   "execution_count": 19,
   "id": "e30c2b78",
   "metadata": {
    "execution": {
     "iopub.execute_input": "2023-08-23T00:35:17.163181Z",
     "iopub.status.busy": "2023-08-23T00:35:17.162767Z",
     "iopub.status.idle": "2023-08-23T00:35:17.167296Z",
     "shell.execute_reply": "2023-08-23T00:35:17.166200Z"
    },
    "papermill": {
     "duration": 0.01652,
     "end_time": "2023-08-23T00:35:17.169588",
     "exception": false,
     "start_time": "2023-08-23T00:35:17.153068",
     "status": "completed"
    },
    "tags": []
   },
   "outputs": [],
   "source": [
    "parent_train_images='/kaggle/input/data-data/train'\n",
    "parent_test_images='/kaggle/input/data-data/test'"
   ]
  },
  {
   "cell_type": "code",
   "execution_count": 20,
   "id": "94031fb1",
   "metadata": {
    "execution": {
     "iopub.execute_input": "2023-08-23T00:35:17.188720Z",
     "iopub.status.busy": "2023-08-23T00:35:17.188280Z",
     "iopub.status.idle": "2023-08-23T00:35:17.193893Z",
     "shell.execute_reply": "2023-08-23T00:35:17.192884Z"
    },
    "papermill": {
     "duration": 0.017631,
     "end_time": "2023-08-23T00:35:17.195948",
     "exception": false,
     "start_time": "2023-08-23T00:35:17.178317",
     "status": "completed"
    },
    "tags": []
   },
   "outputs": [],
   "source": [
    "parent_folder = '/kaggle/working/soccer-exercise-ball'\n",
    "train_folder = '/kaggle/working/soccer-exercise-ball/trainFootball'\n",
    "test_folder = '/kaggle/working/soccer-exercise-ball/testFootball'\n",
    "\n",
    "os.mkdir(parent_folder)\n",
    "os.mkdir(train_folder)\n",
    "os.mkdir(test_folder)"
   ]
  },
  {
   "cell_type": "code",
   "execution_count": 21,
   "id": "879e9222",
   "metadata": {
    "execution": {
     "iopub.execute_input": "2023-08-23T00:35:17.217749Z",
     "iopub.status.busy": "2023-08-23T00:35:17.216866Z",
     "iopub.status.idle": "2023-08-23T00:35:17.228450Z",
     "shell.execute_reply": "2023-08-23T00:35:17.227250Z"
    },
    "papermill": {
     "duration": 0.028281,
     "end_time": "2023-08-23T00:35:17.232805",
     "exception": false,
     "start_time": "2023-08-23T00:35:17.204524",
     "status": "completed"
    },
    "tags": []
   },
   "outputs": [],
   "source": [
    "cols = ['filename','id','center_x','center_y', 'w', 'h']\n",
    "groupby_obj_train = train_df[cols].groupby('filename')\n",
    "groupby_obj_test = test_df[cols].groupby('filename')"
   ]
  },
  {
   "cell_type": "code",
   "execution_count": 22,
   "id": "5f958769",
   "metadata": {
    "execution": {
     "iopub.execute_input": "2023-08-23T00:35:17.258469Z",
     "iopub.status.busy": "2023-08-23T00:35:17.257181Z",
     "iopub.status.idle": "2023-08-23T00:35:17.262608Z",
     "shell.execute_reply": "2023-08-23T00:35:17.261637Z"
    },
    "papermill": {
     "duration": 0.020492,
     "end_time": "2023-08-23T00:35:17.265149",
     "exception": false,
     "start_time": "2023-08-23T00:35:17.244657",
     "status": "completed"
    },
    "tags": []
   },
   "outputs": [],
   "source": [
    "import shutil"
   ]
  },
  {
   "cell_type": "code",
   "execution_count": 23,
   "id": "064c4e09",
   "metadata": {
    "execution": {
     "iopub.execute_input": "2023-08-23T00:35:17.284968Z",
     "iopub.status.busy": "2023-08-23T00:35:17.283782Z",
     "iopub.status.idle": "2023-08-23T00:35:17.291153Z",
     "shell.execute_reply": "2023-08-23T00:35:17.290367Z"
    },
    "papermill": {
     "duration": 0.019753,
     "end_time": "2023-08-23T00:35:17.293661",
     "exception": false,
     "start_time": "2023-08-23T00:35:17.273908",
     "status": "completed"
    },
    "tags": []
   },
   "outputs": [],
   "source": [
    "#groupby_obj_train.get_group('000009.jpg').set_index('filename').to_csv('sample.txt',index=False,header=False)\n",
    "# save each image in train/test folder and repective labels in .txt\n",
    "def save_data(filename, src_folder_path, folder_path, group_obj):\n",
    "    # move image\n",
    "    src = os.path.join(src_folder_path,filename)\n",
    "    dst = os.path.join(folder_path,filename)\n",
    "    shutil.copy(src,dst) # move image to the destination folder\n",
    "\n",
    "    # save the labels\n",
    "    text_filename = os.path.join(folder_path,\n",
    "                                 os.path.splitext(filename)[0]+'.txt')\n",
    "    group_obj.get_group(filename).set_index('filename').to_csv(text_filename,sep=' ',index=False,header=False)"
   ]
  },
  {
   "cell_type": "code",
   "execution_count": 24,
   "id": "565bf521",
   "metadata": {
    "execution": {
     "iopub.execute_input": "2023-08-23T00:35:17.318768Z",
     "iopub.status.busy": "2023-08-23T00:35:17.318033Z",
     "iopub.status.idle": "2023-08-23T00:35:17.327931Z",
     "shell.execute_reply": "2023-08-23T00:35:17.326876Z"
    },
    "papermill": {
     "duration": 0.024844,
     "end_time": "2023-08-23T00:35:17.330488",
     "exception": false,
     "start_time": "2023-08-23T00:35:17.305644",
     "status": "completed"
    },
    "tags": []
   },
   "outputs": [],
   "source": [
    "filename_series = pd.Series(groupby_obj_train.groups.keys())\n",
    "filename_series_test = pd.Series(groupby_obj_test.groups.keys())"
   ]
  },
  {
   "cell_type": "code",
   "execution_count": 25,
   "id": "8a5a4778",
   "metadata": {
    "execution": {
     "iopub.execute_input": "2023-08-23T00:35:17.349274Z",
     "iopub.status.busy": "2023-08-23T00:35:17.348527Z",
     "iopub.status.idle": "2023-08-23T00:35:18.159808Z",
     "shell.execute_reply": "2023-08-23T00:35:18.158647Z"
    },
    "papermill": {
     "duration": 0.823249,
     "end_time": "2023-08-23T00:35:18.162206",
     "exception": false,
     "start_time": "2023-08-23T00:35:17.338957",
     "status": "completed"
    },
    "tags": []
   },
   "outputs": [
    {
     "data": {
      "text/plain": [
       "0     None\n",
       "1     None\n",
       "2     None\n",
       "3     None\n",
       "4     None\n",
       "      ... \n",
       "95    None\n",
       "96    None\n",
       "97    None\n",
       "98    None\n",
       "99    None\n",
       "Length: 100, dtype: object"
      ]
     },
     "execution_count": 25,
     "metadata": {},
     "output_type": "execute_result"
    }
   ],
   "source": [
    "filename_series.apply(save_data,args=(parent_train_images,train_folder,groupby_obj_train))"
   ]
  },
  {
   "cell_type": "code",
   "execution_count": 26,
   "id": "b916879d",
   "metadata": {
    "execution": {
     "iopub.execute_input": "2023-08-23T00:35:18.181208Z",
     "iopub.status.busy": "2023-08-23T00:35:18.180823Z",
     "iopub.status.idle": "2023-08-23T00:35:18.303970Z",
     "shell.execute_reply": "2023-08-23T00:35:18.303102Z"
    },
    "papermill": {
     "duration": 0.135187,
     "end_time": "2023-08-23T00:35:18.306076",
     "exception": false,
     "start_time": "2023-08-23T00:35:18.170889",
     "status": "completed"
    },
    "tags": []
   },
   "outputs": [
    {
     "data": {
      "text/plain": [
       "0     None\n",
       "1     None\n",
       "2     None\n",
       "3     None\n",
       "4     None\n",
       "5     None\n",
       "6     None\n",
       "7     None\n",
       "8     None\n",
       "9     None\n",
       "10    None\n",
       "11    None\n",
       "12    None\n",
       "dtype: object"
      ]
     },
     "execution_count": 26,
     "metadata": {},
     "output_type": "execute_result"
    }
   ],
   "source": [
    "filename_series_test.apply(save_data,args=(parent_test_images,test_folder,groupby_obj_test))"
   ]
  },
  {
   "cell_type": "code",
   "execution_count": 27,
   "id": "8c738daf",
   "metadata": {
    "execution": {
     "iopub.execute_input": "2023-08-23T00:35:18.325813Z",
     "iopub.status.busy": "2023-08-23T00:35:18.325390Z",
     "iopub.status.idle": "2023-08-23T00:35:21.621035Z",
     "shell.execute_reply": "2023-08-23T00:35:21.619859Z"
    },
    "papermill": {
     "duration": 3.308459,
     "end_time": "2023-08-23T00:35:21.623632",
     "exception": false,
     "start_time": "2023-08-23T00:35:18.315173",
     "status": "completed"
    },
    "tags": []
   },
   "outputs": [
    {
     "name": "stdout",
     "output_type": "stream",
     "text": [
      "Cloning into 'yolov5'...\r\n",
      "remote: Enumerating objects: 15921, done.\u001b[K\r\n",
      "remote: Counting objects: 100% (41/41), done.\u001b[K\r\n",
      "remote: Compressing objects: 100% (28/28), done.\u001b[K\r\n",
      "remote: Total 15921 (delta 17), reused 28 (delta 13), pack-reused 15880\u001b[K\r\n",
      "Receiving objects: 100% (15921/15921), 14.66 MiB | 23.79 MiB/s, done.\r\n",
      "Resolving deltas: 100% (10916/10916), done.\r\n"
     ]
    }
   ],
   "source": [
    "!git clone https://github.com/ultralytics/yolov5"
   ]
  },
  {
   "cell_type": "code",
   "execution_count": 28,
   "id": "6e11491b",
   "metadata": {
    "execution": {
     "iopub.execute_input": "2023-08-23T00:35:21.646971Z",
     "iopub.status.busy": "2023-08-23T00:35:21.646384Z",
     "iopub.status.idle": "2023-08-23T00:35:21.651270Z",
     "shell.execute_reply": "2023-08-23T00:35:21.650450Z"
    },
    "papermill": {
     "duration": 0.019236,
     "end_time": "2023-08-23T00:35:21.653357",
     "exception": false,
     "start_time": "2023-08-23T00:35:21.634121",
     "status": "completed"
    },
    "tags": []
   },
   "outputs": [],
   "source": [
    "os.chdir('/kaggle/working/yolov5')"
   ]
  },
  {
   "cell_type": "code",
   "execution_count": 29,
   "id": "fb833e6a",
   "metadata": {
    "execution": {
     "iopub.execute_input": "2023-08-23T00:35:21.676164Z",
     "iopub.status.busy": "2023-08-23T00:35:21.675190Z",
     "iopub.status.idle": "2023-08-23T00:35:48.166293Z",
     "shell.execute_reply": "2023-08-23T00:35:48.164910Z"
    },
    "papermill": {
     "duration": 26.505346,
     "end_time": "2023-08-23T00:35:48.169056",
     "exception": false,
     "start_time": "2023-08-23T00:35:21.663710",
     "status": "completed"
    },
    "tags": []
   },
   "outputs": [
    {
     "name": "stdout",
     "output_type": "stream",
     "text": [
      "Requirement already satisfied: gitpython>=3.1.30 in /opt/conda/lib/python3.10/site-packages (from -r requirements.txt (line 5)) (3.1.31)\r\n",
      "Requirement already satisfied: matplotlib>=3.3 in /opt/conda/lib/python3.10/site-packages (from -r requirements.txt (line 6)) (3.7.1)\r\n",
      "Requirement already satisfied: numpy>=1.22.2 in /opt/conda/lib/python3.10/site-packages (from -r requirements.txt (line 7)) (1.23.5)\r\n",
      "Requirement already satisfied: opencv-python>=4.1.1 in /opt/conda/lib/python3.10/site-packages (from -r requirements.txt (line 8)) (4.8.0.74)\r\n",
      "Requirement already satisfied: Pillow>=7.1.2 in /opt/conda/lib/python3.10/site-packages (from -r requirements.txt (line 9)) (9.5.0)\r\n",
      "Requirement already satisfied: psutil in /opt/conda/lib/python3.10/site-packages (from -r requirements.txt (line 10)) (5.9.3)\r\n",
      "Requirement already satisfied: PyYAML>=5.3.1 in /opt/conda/lib/python3.10/site-packages (from -r requirements.txt (line 11)) (6.0)\r\n",
      "Requirement already satisfied: requests>=2.23.0 in /opt/conda/lib/python3.10/site-packages (from -r requirements.txt (line 12)) (2.31.0)\r\n",
      "Requirement already satisfied: scipy>=1.4.1 in /opt/conda/lib/python3.10/site-packages (from -r requirements.txt (line 13)) (1.11.1)\r\n",
      "Collecting thop>=0.1.1 (from -r requirements.txt (line 14))\r\n",
      "  Downloading thop-0.1.1.post2209072238-py3-none-any.whl (15 kB)\r\n",
      "Requirement already satisfied: torch>=1.8.0 in /opt/conda/lib/python3.10/site-packages (from -r requirements.txt (line 15)) (2.0.0+cpu)\r\n",
      "Requirement already satisfied: torchvision>=0.9.0 in /opt/conda/lib/python3.10/site-packages (from -r requirements.txt (line 16)) (0.15.1+cpu)\r\n",
      "Requirement already satisfied: tqdm>=4.64.0 in /opt/conda/lib/python3.10/site-packages (from -r requirements.txt (line 17)) (4.65.0)\r\n",
      "Collecting ultralytics>=8.0.147 (from -r requirements.txt (line 18))\r\n",
      "  Downloading ultralytics-8.0.160-py3-none-any.whl (609 kB)\r\n",
      "\u001b[2K     \u001b[90m━━━━━━━━━━━━━━━━━━━━━━━━━━━━━━━━━━━━━━━\u001b[0m \u001b[32m609.3/609.3 kB\u001b[0m \u001b[31m9.9 MB/s\u001b[0m eta \u001b[36m0:00:00\u001b[0m\r\n",
      "\u001b[?25hRequirement already satisfied: pandas>=1.1.4 in /opt/conda/lib/python3.10/site-packages (from -r requirements.txt (line 27)) (1.5.3)\r\n",
      "Requirement already satisfied: seaborn>=0.11.0 in /opt/conda/lib/python3.10/site-packages (from -r requirements.txt (line 28)) (0.12.2)\r\n",
      "Collecting setuptools>=65.5.1 (from -r requirements.txt (line 42))\r\n",
      "  Downloading setuptools-68.1.2-py3-none-any.whl (805 kB)\r\n",
      "\u001b[2K     \u001b[90m━━━━━━━━━━━━━━━━━━━━━━━━━━━━━━━━━━━━━━\u001b[0m \u001b[32m805.1/805.1 kB\u001b[0m \u001b[31m32.7 MB/s\u001b[0m eta \u001b[36m0:00:00\u001b[0m\r\n",
      "\u001b[?25hRequirement already satisfied: gitdb<5,>=4.0.1 in /opt/conda/lib/python3.10/site-packages (from gitpython>=3.1.30->-r requirements.txt (line 5)) (4.0.10)\r\n",
      "Requirement already satisfied: contourpy>=1.0.1 in /opt/conda/lib/python3.10/site-packages (from matplotlib>=3.3->-r requirements.txt (line 6)) (1.1.0)\r\n",
      "Requirement already satisfied: cycler>=0.10 in /opt/conda/lib/python3.10/site-packages (from matplotlib>=3.3->-r requirements.txt (line 6)) (0.11.0)\r\n",
      "Requirement already satisfied: fonttools>=4.22.0 in /opt/conda/lib/python3.10/site-packages (from matplotlib>=3.3->-r requirements.txt (line 6)) (4.40.0)\r\n",
      "Requirement already satisfied: kiwisolver>=1.0.1 in /opt/conda/lib/python3.10/site-packages (from matplotlib>=3.3->-r requirements.txt (line 6)) (1.4.4)\r\n",
      "Requirement already satisfied: packaging>=20.0 in /opt/conda/lib/python3.10/site-packages (from matplotlib>=3.3->-r requirements.txt (line 6)) (21.3)\r\n",
      "Requirement already satisfied: pyparsing>=2.3.1 in /opt/conda/lib/python3.10/site-packages (from matplotlib>=3.3->-r requirements.txt (line 6)) (3.0.9)\r\n",
      "Requirement already satisfied: python-dateutil>=2.7 in /opt/conda/lib/python3.10/site-packages (from matplotlib>=3.3->-r requirements.txt (line 6)) (2.8.2)\r\n",
      "Requirement already satisfied: charset-normalizer<4,>=2 in /opt/conda/lib/python3.10/site-packages (from requests>=2.23.0->-r requirements.txt (line 12)) (3.1.0)\r\n",
      "Requirement already satisfied: idna<4,>=2.5 in /opt/conda/lib/python3.10/site-packages (from requests>=2.23.0->-r requirements.txt (line 12)) (3.4)\r\n",
      "Requirement already satisfied: urllib3<3,>=1.21.1 in /opt/conda/lib/python3.10/site-packages (from requests>=2.23.0->-r requirements.txt (line 12)) (1.26.15)\r\n",
      "Requirement already satisfied: certifi>=2017.4.17 in /opt/conda/lib/python3.10/site-packages (from requests>=2.23.0->-r requirements.txt (line 12)) (2023.5.7)\r\n",
      "Requirement already satisfied: filelock in /opt/conda/lib/python3.10/site-packages (from torch>=1.8.0->-r requirements.txt (line 15)) (3.12.2)\r\n",
      "Requirement already satisfied: typing-extensions in /opt/conda/lib/python3.10/site-packages (from torch>=1.8.0->-r requirements.txt (line 15)) (4.6.3)\r\n",
      "Requirement already satisfied: sympy in /opt/conda/lib/python3.10/site-packages (from torch>=1.8.0->-r requirements.txt (line 15)) (1.12)\r\n",
      "Requirement already satisfied: networkx in /opt/conda/lib/python3.10/site-packages (from torch>=1.8.0->-r requirements.txt (line 15)) (3.1)\r\n",
      "Requirement already satisfied: jinja2 in /opt/conda/lib/python3.10/site-packages (from torch>=1.8.0->-r requirements.txt (line 15)) (3.1.2)\r\n",
      "Requirement already satisfied: py-cpuinfo in /opt/conda/lib/python3.10/site-packages (from ultralytics>=8.0.147->-r requirements.txt (line 18)) (9.0.0)\r\n",
      "Requirement already satisfied: pytz>=2020.1 in /opt/conda/lib/python3.10/site-packages (from pandas>=1.1.4->-r requirements.txt (line 27)) (2023.3)\r\n",
      "Requirement already satisfied: smmap<6,>=3.0.1 in /opt/conda/lib/python3.10/site-packages (from gitdb<5,>=4.0.1->gitpython>=3.1.30->-r requirements.txt (line 5)) (5.0.0)\r\n",
      "Requirement already satisfied: six>=1.5 in /opt/conda/lib/python3.10/site-packages (from python-dateutil>=2.7->matplotlib>=3.3->-r requirements.txt (line 6)) (1.16.0)\r\n",
      "Requirement already satisfied: MarkupSafe>=2.0 in /opt/conda/lib/python3.10/site-packages (from jinja2->torch>=1.8.0->-r requirements.txt (line 15)) (2.1.3)\r\n",
      "Requirement already satisfied: mpmath>=0.19 in /opt/conda/lib/python3.10/site-packages (from sympy->torch>=1.8.0->-r requirements.txt (line 15)) (1.3.0)\r\n",
      "Installing collected packages: setuptools, thop, ultralytics\r\n",
      "  Attempting uninstall: setuptools\r\n",
      "    Found existing installation: setuptools 59.8.0\r\n",
      "    Uninstalling setuptools-59.8.0:\r\n",
      "      Successfully uninstalled setuptools-59.8.0\r\n",
      "\u001b[31mERROR: pip's dependency resolver does not currently take into account all the packages that are installed. This behaviour is the source of the following dependency conflicts.\r\n",
      "opentelemetry-api 1.18.0 requires importlib-metadata~=6.0.0, but you have importlib-metadata 6.7.0 which is incompatible.\r\n",
      "pymc3 3.11.5 requires numpy<1.22.2,>=1.15.0, but you have numpy 1.23.5 which is incompatible.\r\n",
      "pymc3 3.11.5 requires scipy<1.8.0,>=1.7.3, but you have scipy 1.11.1 which is incompatible.\u001b[0m\u001b[31m\r\n",
      "\u001b[0mSuccessfully installed setuptools-68.1.2 thop-0.1.1.post2209072238 ultralytics-8.0.160\r\n"
     ]
    }
   ],
   "source": [
    "!pip install -r requirements.txt"
   ]
  },
  {
   "cell_type": "code",
   "execution_count": 30,
   "id": "49da823a",
   "metadata": {
    "execution": {
     "iopub.execute_input": "2023-08-23T00:35:48.195248Z",
     "iopub.status.busy": "2023-08-23T00:35:48.194828Z",
     "iopub.status.idle": "2023-08-23T02:34:50.039457Z",
     "shell.execute_reply": "2023-08-23T02:34:50.036884Z"
    },
    "papermill": {
     "duration": 7141.862623,
     "end_time": "2023-08-23T02:34:50.043750",
     "exception": false,
     "start_time": "2023-08-23T00:35:48.181127",
     "status": "completed"
    },
    "tags": []
   },
   "outputs": [
    {
     "name": "stdout",
     "output_type": "stream",
     "text": [
      "\u001b[34m\u001b[1mwandb\u001b[0m: WARNING ⚠️ wandb is deprecated and will be removed in a future release. See supported integrations at https://github.com/ultralytics/yolov5#integrations.\r\n",
      "\u001b[34m\u001b[1mwandb\u001b[0m: (1) Create a W&B account\r\n",
      "\u001b[34m\u001b[1mwandb\u001b[0m: (2) Use an existing W&B account\r\n",
      "\u001b[34m\u001b[1mwandb\u001b[0m: (3) Don't visualize my results\r\n",
      "\u001b[34m\u001b[1mwandb\u001b[0m: Enter your choice: (30 second timeout) \r\n",
      "\u001b[34m\u001b[1mwandb\u001b[0m: W&B disabled due to login timeout.\r\n",
      "\u001b[34m\u001b[1mtrain: \u001b[0mweights=yolov5s.pt, cfg=yolov5s.yaml, data=/kaggle/input/ball-yaml/dataset.yaml, hyp=data/hyps/hyp.scratch-low.yaml, epochs=100, batch_size=32, imgsz=640, rect=False, resume=False, nosave=False, noval=False, noautoanchor=False, noplots=False, evolve=None, bucket=, cache=None, image_weights=False, device=, multi_scale=False, single_cls=False, optimizer=SGD, sync_bn=False, workers=8, project=runs/train, name=Model, exist_ok=False, quad=False, cos_lr=False, label_smoothing=0.0, patience=100, freeze=[0], save_period=-1, seed=0, local_rank=-1, entity=None, upload_dataset=False, bbox_interval=-1, artifact_alias=latest\r\n",
      "\u001b[34m\u001b[1mgithub: \u001b[0mup to date with https://github.com/ultralytics/yolov5 ✅\r\n",
      "YOLOv5 🚀 v7.0-210-gdd10481 Python-3.10.12 torch-2.0.0+cpu CPU\r\n",
      "\r\n",
      "\u001b[34m\u001b[1mhyperparameters: \u001b[0mlr0=0.01, lrf=0.01, momentum=0.937, weight_decay=0.0005, warmup_epochs=3.0, warmup_momentum=0.8, warmup_bias_lr=0.1, box=0.05, cls=0.5, cls_pw=1.0, obj=1.0, obj_pw=1.0, iou_t=0.2, anchor_t=4.0, fl_gamma=0.0, hsv_h=0.015, hsv_s=0.7, hsv_v=0.4, degrees=0.0, translate=0.1, scale=0.5, shear=0.0, perspective=0.0, flipud=0.0, fliplr=0.5, mosaic=1.0, mixup=0.0, copy_paste=0.0\r\n",
      "\u001b[34m\u001b[1mComet: \u001b[0mrun 'pip install comet_ml' to automatically track and visualize YOLOv5 🚀 runs in Comet\r\n",
      "\u001b[34m\u001b[1mTensorBoard: \u001b[0mStart with 'tensorboard --logdir runs/train', view at http://localhost:6006/\r\n",
      "Downloading https://ultralytics.com/assets/Arial.ttf to /root/.config/Ultralytics/Arial.ttf...\r\n",
      "100%|████████████████████████████████████████| 755k/755k [00:00<00:00, 13.5MB/s]\r\n",
      "Downloading https://github.com/ultralytics/yolov5/releases/download/v7.0/yolov5s.pt to yolov5s.pt...\r\n",
      "100%|██████████████████████████████████████| 14.1M/14.1M [00:00<00:00, 60.6MB/s]\r\n",
      "\r\n",
      "Overriding model.yaml nc=80 with nc=1\r\n",
      "\r\n",
      "                 from  n    params  module                                  arguments                     \r\n",
      "  0                -1  1      3520  models.common.Conv                      [3, 32, 6, 2, 2]              \r\n",
      "  1                -1  1     18560  models.common.Conv                      [32, 64, 3, 2]                \r\n",
      "  2                -1  1     18816  models.common.C3                        [64, 64, 1]                   \r\n",
      "  3                -1  1     73984  models.common.Conv                      [64, 128, 3, 2]               \r\n",
      "  4                -1  2    115712  models.common.C3                        [128, 128, 2]                 \r\n",
      "  5                -1  1    295424  models.common.Conv                      [128, 256, 3, 2]              \r\n",
      "  6                -1  3    625152  models.common.C3                        [256, 256, 3]                 \r\n",
      "  7                -1  1   1180672  models.common.Conv                      [256, 512, 3, 2]              \r\n",
      "  8                -1  1   1182720  models.common.C3                        [512, 512, 1]                 \r\n",
      "  9                -1  1    656896  models.common.SPPF                      [512, 512, 5]                 \r\n",
      " 10                -1  1    131584  models.common.Conv                      [512, 256, 1, 1]              \r\n",
      " 11                -1  1         0  torch.nn.modules.upsampling.Upsample    [None, 2, 'nearest']          \r\n",
      " 12           [-1, 6]  1         0  models.common.Concat                    [1]                           \r\n",
      " 13                -1  1    361984  models.common.C3                        [512, 256, 1, False]          \r\n",
      " 14                -1  1     33024  models.common.Conv                      [256, 128, 1, 1]              \r\n",
      " 15                -1  1         0  torch.nn.modules.upsampling.Upsample    [None, 2, 'nearest']          \r\n",
      " 16           [-1, 4]  1         0  models.common.Concat                    [1]                           \r\n",
      " 17                -1  1     90880  models.common.C3                        [256, 128, 1, False]          \r\n",
      " 18                -1  1    147712  models.common.Conv                      [128, 128, 3, 2]              \r\n",
      " 19          [-1, 14]  1         0  models.common.Concat                    [1]                           \r\n",
      " 20                -1  1    296448  models.common.C3                        [256, 256, 1, False]          \r\n",
      " 21                -1  1    590336  models.common.Conv                      [256, 256, 3, 2]              \r\n",
      " 22          [-1, 10]  1         0  models.common.Concat                    [1]                           \r\n",
      " 23                -1  1   1182720  models.common.C3                        [512, 512, 1, False]          \r\n",
      " 24      [17, 20, 23]  1     16182  models.yolo.Detect                      [1, [[10, 13, 16, 30, 33, 23], [30, 61, 62, 45, 59, 119], [116, 90, 156, 198, 373, 326]], [128, 256, 512]]\r\n",
      "YOLOv5s summary: 214 layers, 7022326 parameters, 7022326 gradients, 15.9 GFLOPs\r\n",
      "\r\n",
      "Transferred 342/349 items from yolov5s.pt\r\n",
      "\u001b[34m\u001b[1moptimizer:\u001b[0m SGD(lr=0.01) with parameter groups 57 weight(decay=0.0), 60 weight(decay=0.0005), 60 bias\r\n",
      "\u001b[34m\u001b[1malbumentations: \u001b[0mBlur(p=0.01, blur_limit=(3, 7)), MedianBlur(p=0.01, blur_limit=(3, 7)), ToGray(p=0.01), CLAHE(p=0.01, clip_limit=(1, 4.0), tile_grid_size=(8, 8))\r\n",
      "\u001b[34m\u001b[1mtrain: \u001b[0mScanning /kaggle/working/soccer-exercise-ball/trainFootball... 100 images\u001b[0m\r\n",
      "\u001b[34m\u001b[1mtrain: \u001b[0mNew cache created: /kaggle/working/soccer-exercise-ball/trainFootball.cache\r\n",
      "\u001b[34m\u001b[1mval: \u001b[0mScanning /kaggle/working/soccer-exercise-ball/testFootball... 13 images, 0 \u001b[0m\r\n",
      "\u001b[34m\u001b[1mval: \u001b[0mNew cache created: /kaggle/working/soccer-exercise-ball/testFootball.cache\r\n",
      "\r\n",
      "\u001b[34m\u001b[1mAutoAnchor: \u001b[0m3.10 anchors/target, 1.000 Best Possible Recall (BPR). Current anchors are a good fit to dataset ✅\r\n",
      "Plotting labels to runs/train/Model/labels.jpg... \r\n",
      "Image sizes 640 train, 640 val\r\n",
      "Using 4 dataloader workers\r\n",
      "Logging results to \u001b[1mruns/train/Model\u001b[0m\r\n",
      "Starting training for 100 epochs...\r\n",
      "\r\n",
      "      Epoch    GPU_mem   box_loss   obj_loss   cls_loss  Instances       Size\r\n",
      "       0/99         0G    0.09317    0.02592          0          9        640: 1\r\n",
      "                 Class     Images  Instances          P          R      mAP50   WARNING ⚠️ NMS time limit 1.150s exceeded\r\n",
      "                 Class     Images  Instances          P          R      mAP50   \r\n",
      "                   all         13         13          0          0          0          0\r\n",
      "\r\n",
      "      Epoch    GPU_mem   box_loss   obj_loss   cls_loss  Instances       Size\r\n",
      "       1/99         0G    0.08154    0.02317          0         10        640: 1\r\n",
      "                 Class     Images  Instances          P          R      mAP50   WARNING ⚠️ NMS time limit 1.150s exceeded\r\n",
      "                 Class     Images  Instances          P          R      mAP50   \r\n",
      "                   all         13         13          0          0          0          0\r\n",
      "\r\n",
      "      Epoch    GPU_mem   box_loss   obj_loss   cls_loss  Instances       Size\r\n",
      "       2/99         0G    0.09136    0.01954          0          8        640: 1\r\n",
      "                 Class     Images  Instances          P          R      mAP50   \r\n",
      "                   all         13         13          0          0          0          0\r\n",
      "\r\n",
      "      Epoch    GPU_mem   box_loss   obj_loss   cls_loss  Instances       Size\r\n",
      "       3/99         0G    0.09061    0.01679          0          8        640: 1\r\n",
      "                 Class     Images  Instances          P          R      mAP50   \r\n",
      "                   all         13         13          0          0          0          0\r\n",
      "\r\n",
      "      Epoch    GPU_mem   box_loss   obj_loss   cls_loss  Instances       Size\r\n",
      "       4/99         0G    0.09057    0.01434          0          8        640: 1\r\n",
      "                 Class     Images  Instances          P          R      mAP50   \r\n",
      "                   all         13         13          0          0          0          0\r\n",
      "\r\n",
      "      Epoch    GPU_mem   box_loss   obj_loss   cls_loss  Instances       Size\r\n",
      "       5/99         0G    0.08828    0.01291          0         11        640: 1\r\n",
      "                 Class     Images  Instances          P          R      mAP50   \r\n",
      "                   all         13         13          0          0          0          0\r\n",
      "\r\n",
      "      Epoch    GPU_mem   box_loss   obj_loss   cls_loss  Instances       Size\r\n",
      "       6/99         0G     0.0758    0.01168          0          8        640: 1\r\n",
      "                 Class     Images  Instances          P          R      mAP50   \r\n",
      "                   all         13         13          0          0          0          0\r\n",
      "\r\n",
      "      Epoch    GPU_mem   box_loss   obj_loss   cls_loss  Instances       Size\r\n",
      "       7/99         0G     0.0741    0.01041          0          9        640: 1\r\n",
      "                 Class     Images  Instances          P          R      mAP50   \r\n",
      "                   all         13         13          0          0          0          0\r\n",
      "\r\n",
      "      Epoch    GPU_mem   box_loss   obj_loss   cls_loss  Instances       Size\r\n",
      "       8/99         0G    0.07151   0.009984          0          4        640: 1\r\n",
      "                 Class     Images  Instances          P          R      mAP50   \r\n",
      "                   all         13         13          0          0          0          0\r\n",
      "\r\n",
      "      Epoch    GPU_mem   box_loss   obj_loss   cls_loss  Instances       Size\r\n",
      "       9/99         0G    0.06911     0.0101          0          7        640: 1\r\n",
      "                 Class     Images  Instances          P          R      mAP50   \r\n",
      "                   all         13         13          0          0          0          0\r\n",
      "\r\n",
      "      Epoch    GPU_mem   box_loss   obj_loss   cls_loss  Instances       Size\r\n",
      "      10/99         0G    0.06312    0.01036          0          6        640: 1\r\n",
      "                 Class     Images  Instances          P          R      mAP50   \r\n",
      "                   all         13         13          0          0          0          0\r\n",
      "\r\n",
      "      Epoch    GPU_mem   box_loss   obj_loss   cls_loss  Instances       Size\r\n",
      "      11/99         0G    0.06199   0.009449          0          4        640: 1\r\n",
      "                 Class     Images  Instances          P          R      mAP50   \r\n",
      "                   all         13         13          0          0          0          0\r\n",
      "\r\n",
      "      Epoch    GPU_mem   box_loss   obj_loss   cls_loss  Instances       Size\r\n",
      "      12/99         0G    0.06494    0.01137          0          4        640: 1\r\n",
      "                 Class     Images  Instances          P          R      mAP50   \r\n",
      "                   all         13         13          0          0          0          0\r\n",
      "\r\n",
      "      Epoch    GPU_mem   box_loss   obj_loss   cls_loss  Instances       Size\r\n",
      "      13/99         0G    0.05457    0.01035          0          5        640: 1\r\n",
      "                 Class     Images  Instances          P          R      mAP50   \r\n",
      "                   all         13         13          0          0          0          0\r\n",
      "\r\n",
      "      Epoch    GPU_mem   box_loss   obj_loss   cls_loss  Instances       Size\r\n",
      "      14/99         0G    0.05111     0.0125          0         10        640: 1\r\n",
      "                 Class     Images  Instances          P          R      mAP50   \r\n",
      "                   all         13         13   0.000513      0.154    0.00031   6.21e-05\r\n",
      "\r\n",
      "      Epoch    GPU_mem   box_loss   obj_loss   cls_loss  Instances       Size\r\n",
      "      15/99         0G    0.06114    0.01075          0          4        640: 1\r\n",
      "                 Class     Images  Instances          P          R      mAP50   \r\n",
      "                   all         13         13   0.000769      0.231   0.000531   0.000159\r\n",
      "\r\n",
      "      Epoch    GPU_mem   box_loss   obj_loss   cls_loss  Instances       Size\r\n",
      "      16/99         0G    0.05541    0.01144          0          8        640: 1\r\n",
      "                 Class     Images  Instances          P          R      mAP50   \r\n",
      "                   all         13         13    0.00154      0.462    0.00284   0.000716\r\n",
      "\r\n",
      "      Epoch    GPU_mem   box_loss   obj_loss   cls_loss  Instances       Size\r\n",
      "      17/99         0G    0.05752   0.009439          0          5        640: 1\r\n",
      "                 Class     Images  Instances          P          R      mAP50   \r\n",
      "                   all         13         13    0.00231      0.692    0.00499    0.00146\r\n",
      "\r\n",
      "      Epoch    GPU_mem   box_loss   obj_loss   cls_loss  Instances       Size\r\n",
      "      18/99         0G     0.0559    0.01136          0          4        640: 1\r\n",
      "                 Class     Images  Instances          P          R      mAP50   \r\n",
      "                   all         13         13    0.00103      0.308    0.00161   0.000219\r\n",
      "\r\n",
      "      Epoch    GPU_mem   box_loss   obj_loss   cls_loss  Instances       Size\r\n",
      "      19/99         0G    0.05405    0.01089          0          5        640: 1\r\n",
      "                 Class     Images  Instances          P          R      mAP50   \r\n",
      "                   all         13         13    0.00231      0.692    0.00889    0.00187\r\n",
      "\r\n",
      "      Epoch    GPU_mem   box_loss   obj_loss   cls_loss  Instances       Size\r\n",
      "      20/99         0G    0.04365     0.0109          0          7        640: 1\r\n",
      "                 Class     Images  Instances          P          R      mAP50   \r\n",
      "                   all         13         13    0.00282      0.846     0.0524     0.0131\r\n",
      "\r\n",
      "      Epoch    GPU_mem   box_loss   obj_loss   cls_loss  Instances       Size\r\n",
      "      21/99         0G    0.05012    0.01016          0          5        640: 1\r\n",
      "                 Class     Images  Instances          P          R      mAP50   \r\n",
      "                   all         13         13    0.00308      0.923      0.028    0.00967\r\n",
      "\r\n",
      "      Epoch    GPU_mem   box_loss   obj_loss   cls_loss  Instances       Size\r\n",
      "      22/99         0G     0.0494    0.01188          0          6        640: 1\r\n",
      "                 Class     Images  Instances          P          R      mAP50   \r\n",
      "                   all         13         13    0.00308      0.923     0.0167    0.00577\r\n",
      "\r\n",
      "      Epoch    GPU_mem   box_loss   obj_loss   cls_loss  Instances       Size\r\n",
      "      23/99         0G    0.04949    0.01025          0          6        640: 1\r\n",
      "                 Class     Images  Instances          P          R      mAP50   \r\n",
      "                   all         13         13    0.00308      0.923     0.0212    0.00517\r\n",
      "\r\n",
      "      Epoch    GPU_mem   box_loss   obj_loss   cls_loss  Instances       Size\r\n",
      "      24/99         0G    0.04583   0.009738          0          5        640: 1\r\n",
      "                 Class     Images  Instances          P          R      mAP50   \r\n",
      "                   all         13         13    0.00333          1     0.0244    0.00698\r\n",
      "\r\n",
      "      Epoch    GPU_mem   box_loss   obj_loss   cls_loss  Instances       Size\r\n",
      "      25/99         0G    0.04823    0.01004          0          5        640: 1\r\n",
      "                 Class     Images  Instances          P          R      mAP50   \r\n",
      "                   all         13         13    0.00333          1     0.0428    0.00913\r\n",
      "\r\n",
      "      Epoch    GPU_mem   box_loss   obj_loss   cls_loss  Instances       Size\r\n",
      "      26/99         0G    0.04368    0.01056          0          9        640: 1\r\n",
      "                 Class     Images  Instances          P          R      mAP50   \r\n",
      "                   all         13         13    0.00282      0.846    0.00917    0.00223\r\n",
      "\r\n",
      "      Epoch    GPU_mem   box_loss   obj_loss   cls_loss  Instances       Size\r\n",
      "      27/99         0G    0.04411    0.01139          0          8        640: 1\r\n",
      "                 Class     Images  Instances          P          R      mAP50   \r\n",
      "                   all         13         13    0.00308      0.923     0.0655     0.0275\r\n",
      "\r\n",
      "      Epoch    GPU_mem   box_loss   obj_loss   cls_loss  Instances       Size\r\n",
      "      28/99         0G     0.0389   0.009472          0          5        640: 1\r\n",
      "                 Class     Images  Instances          P          R      mAP50   \r\n",
      "                   all         13         13    0.00282      0.846     0.0236    0.00488\r\n",
      "\r\n",
      "      Epoch    GPU_mem   box_loss   obj_loss   cls_loss  Instances       Size\r\n",
      "      29/99         0G    0.03614    0.01107          0          7        640: 1\r\n",
      "                 Class     Images  Instances          P          R      mAP50   \r\n",
      "                   all         13         13    0.00333          1     0.0349     0.0137\r\n",
      "\r\n",
      "      Epoch    GPU_mem   box_loss   obj_loss   cls_loss  Instances       Size\r\n",
      "      30/99         0G    0.04138   0.009895          0          5        640: 1\r\n",
      "                 Class     Images  Instances          P          R      mAP50   \r\n",
      "                   all         13         13    0.00333          1     0.0201    0.00643\r\n",
      "\r\n",
      "      Epoch    GPU_mem   box_loss   obj_loss   cls_loss  Instances       Size\r\n",
      "      31/99         0G    0.04076    0.01096          0         11        640: 1\r\n",
      "                 Class     Images  Instances          P          R      mAP50   \r\n",
      "                   all         13         13     0.0206      0.846     0.0351     0.0114\r\n",
      "\r\n",
      "      Epoch    GPU_mem   box_loss   obj_loss   cls_loss  Instances       Size\r\n",
      "      32/99         0G    0.04139    0.01057          0          8        640: 1\r\n",
      "                 Class     Images  Instances          P          R      mAP50   \r\n",
      "                   all         13         13     0.0472      0.308      0.053     0.0126\r\n",
      "\r\n",
      "      Epoch    GPU_mem   box_loss   obj_loss   cls_loss  Instances       Size\r\n",
      "      33/99         0G    0.03863    0.01018          0          5        640: 1\r\n",
      "                 Class     Images  Instances          P          R      mAP50   \r\n",
      "                   all         13         13     0.0228      0.308     0.0241    0.00948\r\n",
      "\r\n",
      "      Epoch    GPU_mem   box_loss   obj_loss   cls_loss  Instances       Size\r\n",
      "      34/99         0G    0.03872   0.009967          0          5        640: 1\r\n",
      "                 Class     Images  Instances          P          R      mAP50   \r\n",
      "                   all         13         13      0.062      0.154      0.113     0.0405\r\n",
      "\r\n",
      "      Epoch    GPU_mem   box_loss   obj_loss   cls_loss  Instances       Size\r\n",
      "      35/99         0G    0.04047   0.009558          0          6        640: 1\r\n",
      "                 Class     Images  Instances          P          R      mAP50   \r\n",
      "                   all         13         13      0.146      0.538       0.13     0.0282\r\n",
      "\r\n",
      "      Epoch    GPU_mem   box_loss   obj_loss   cls_loss  Instances       Size\r\n",
      "      36/99         0G    0.04124   0.008297          0          9        640: 1\r\n",
      "                 Class     Images  Instances          P          R      mAP50   \r\n",
      "                   all         13         13      0.242      0.769      0.247     0.0936\r\n",
      "\r\n",
      "      Epoch    GPU_mem   box_loss   obj_loss   cls_loss  Instances       Size\r\n",
      "      37/99         0G    0.03911   0.007867          0          5        640: 1\r\n",
      "                 Class     Images  Instances          P          R      mAP50   \r\n",
      "                   all         13         13      0.305      0.769      0.322     0.0985\r\n",
      "\r\n",
      "      Epoch    GPU_mem   box_loss   obj_loss   cls_loss  Instances       Size\r\n",
      "      38/99         0G    0.03608   0.008325          0          6        640: 1\r\n",
      "                 Class     Images  Instances          P          R      mAP50   \r\n",
      "                   all         13         13      0.255      0.769      0.259      0.098\r\n",
      "\r\n",
      "      Epoch    GPU_mem   box_loss   obj_loss   cls_loss  Instances       Size\r\n",
      "      39/99         0G     0.0347   0.008709          0          6        640: 1\r\n",
      "                 Class     Images  Instances          P          R      mAP50   \r\n",
      "                   all         13         13      0.298      0.615      0.335      0.105\r\n",
      "\r\n",
      "      Epoch    GPU_mem   box_loss   obj_loss   cls_loss  Instances       Size\r\n",
      "      40/99         0G    0.03111   0.006957          0          6        640: 1\r\n",
      "                 Class     Images  Instances          P          R      mAP50   \r\n",
      "                   all         13         13      0.297      0.846      0.522      0.151\r\n",
      "\r\n",
      "      Epoch    GPU_mem   box_loss   obj_loss   cls_loss  Instances       Size\r\n",
      "      41/99         0G    0.03463   0.006908          0          7        640: 1\r\n",
      "                 Class     Images  Instances          P          R      mAP50   \r\n",
      "                   all         13         13       0.37      0.615      0.375      0.132\r\n",
      "\r\n",
      "      Epoch    GPU_mem   box_loss   obj_loss   cls_loss  Instances       Size\r\n",
      "      42/99         0G    0.03478    0.00812          0          7        640: 1\r\n",
      "                 Class     Images  Instances          P          R      mAP50   \r\n",
      "                   all         13         13        0.4      0.538      0.501      0.133\r\n",
      "\r\n",
      "      Epoch    GPU_mem   box_loss   obj_loss   cls_loss  Instances       Size\r\n",
      "      43/99         0G    0.03089   0.007219          0          9        640: 1\r\n",
      "                 Class     Images  Instances          P          R      mAP50   \r\n",
      "                   all         13         13      0.638      0.538      0.555      0.199\r\n",
      "\r\n",
      "      Epoch    GPU_mem   box_loss   obj_loss   cls_loss  Instances       Size\r\n",
      "      44/99         0G    0.03743    0.00677          0          9        640: 1\r\n",
      "                 Class     Images  Instances          P          R      mAP50   \r\n",
      "                   all         13         13      0.493      0.525      0.555      0.124\r\n",
      "\r\n",
      "      Epoch    GPU_mem   box_loss   obj_loss   cls_loss  Instances       Size\r\n",
      "      45/99         0G    0.03467   0.006414          0          4        640: 1\r\n",
      "                 Class     Images  Instances          P          R      mAP50   \r\n",
      "                   all         13         13      0.552      0.692      0.574      0.146\r\n",
      "\r\n",
      "      Epoch    GPU_mem   box_loss   obj_loss   cls_loss  Instances       Size\r\n",
      "      46/99         0G    0.03152    0.00744          0          6        640: 1\r\n",
      "                 Class     Images  Instances          P          R      mAP50   \r\n",
      "                   all         13         13      0.409      0.462      0.415      0.128\r\n",
      "\r\n",
      "      Epoch    GPU_mem   box_loss   obj_loss   cls_loss  Instances       Size\r\n",
      "      47/99         0G    0.03474   0.006952          0          5        640: 1\r\n",
      "                 Class     Images  Instances          P          R      mAP50   \r\n",
      "                   all         13         13      0.421      0.462      0.446      0.125\r\n",
      "\r\n",
      "      Epoch    GPU_mem   box_loss   obj_loss   cls_loss  Instances       Size\r\n",
      "      48/99         0G     0.0301   0.006086          0          5        640: 1\r\n",
      "                 Class     Images  Instances          P          R      mAP50   \r\n",
      "                   all         13         13       0.49      0.462      0.515      0.262\r\n",
      "\r\n",
      "      Epoch    GPU_mem   box_loss   obj_loss   cls_loss  Instances       Size\r\n",
      "      49/99         0G     0.0304   0.005801          0          9        640: 1\r\n",
      "                 Class     Images  Instances          P          R      mAP50   \r\n",
      "                   all         13         13      0.587      0.615      0.578      0.186\r\n",
      "\r\n",
      "      Epoch    GPU_mem   box_loss   obj_loss   cls_loss  Instances       Size\r\n",
      "      50/99         0G     0.0273   0.006546          0          4        640: 1\r\n",
      "                 Class     Images  Instances          P          R      mAP50   \r\n",
      "                   all         13         13      0.711      0.615      0.653      0.261\r\n",
      "\r\n",
      "      Epoch    GPU_mem   box_loss   obj_loss   cls_loss  Instances       Size\r\n",
      "      51/99         0G    0.03178   0.005863          0          8        640: 1\r\n",
      "                 Class     Images  Instances          P          R      mAP50   \r\n",
      "                   all         13         13      0.756      0.538      0.665      0.246\r\n",
      "\r\n",
      "      Epoch    GPU_mem   box_loss   obj_loss   cls_loss  Instances       Size\r\n",
      "      52/99         0G    0.02818   0.005733          0          5        640: 1\r\n",
      "                 Class     Images  Instances          P          R      mAP50   \r\n",
      "                   all         13         13      0.813      0.672      0.777      0.347\r\n",
      "\r\n",
      "      Epoch    GPU_mem   box_loss   obj_loss   cls_loss  Instances       Size\r\n",
      "      53/99         0G    0.02851   0.005839          0          9        640: 1\r\n",
      "                 Class     Images  Instances          P          R      mAP50   \r\n",
      "                   all         13         13      0.943      0.615       0.79      0.257\r\n",
      "\r\n",
      "      Epoch    GPU_mem   box_loss   obj_loss   cls_loss  Instances       Size\r\n",
      "      54/99         0G    0.02764   0.006126          0          5        640: 1\r\n",
      "                 Class     Images  Instances          P          R      mAP50   \r\n",
      "                   all         13         13      0.724      0.538      0.537      0.201\r\n",
      "\r\n",
      "      Epoch    GPU_mem   box_loss   obj_loss   cls_loss  Instances       Size\r\n",
      "      55/99         0G    0.02834   0.005485          0          6        640: 1\r\n",
      "                 Class     Images  Instances          P          R      mAP50   \r\n",
      "                   all         13         13      0.793      0.692      0.697       0.28\r\n",
      "\r\n",
      "      Epoch    GPU_mem   box_loss   obj_loss   cls_loss  Instances       Size\r\n",
      "      56/99         0G    0.03284   0.005238          0          3        640: 1\r\n",
      "                 Class     Images  Instances          P          R      mAP50   \r\n",
      "                   all         13         13      0.797      0.692      0.734      0.265\r\n",
      "\r\n",
      "      Epoch    GPU_mem   box_loss   obj_loss   cls_loss  Instances       Size\r\n",
      "      57/99         0G    0.03336   0.005199          0          3        640: 1\r\n",
      "                 Class     Images  Instances          P          R      mAP50   \r\n",
      "                   all         13         13      0.899      0.686      0.755      0.273\r\n",
      "\r\n",
      "      Epoch    GPU_mem   box_loss   obj_loss   cls_loss  Instances       Size\r\n",
      "      58/99         0G    0.02944   0.006605          0          7        640: 1\r\n",
      "                 Class     Images  Instances          P          R      mAP50   \r\n",
      "                   all         13         13      0.742      0.769      0.893      0.365\r\n",
      "\r\n",
      "      Epoch    GPU_mem   box_loss   obj_loss   cls_loss  Instances       Size\r\n",
      "      59/99         0G    0.03077   0.005688          0          9        640: 1\r\n",
      "                 Class     Images  Instances          P          R      mAP50   \r\n",
      "                   all         13         13      0.765      0.769      0.919       0.35\r\n",
      "\r\n",
      "      Epoch    GPU_mem   box_loss   obj_loss   cls_loss  Instances       Size\r\n",
      "      60/99         0G     0.0253   0.006487          0          8        640: 1\r\n",
      "                 Class     Images  Instances          P          R      mAP50   \r\n",
      "                   all         13         13          1      0.607      0.827      0.287\r\n",
      "\r\n",
      "      Epoch    GPU_mem   box_loss   obj_loss   cls_loss  Instances       Size\r\n",
      "      61/99         0G    0.02784   0.006513          0          6        640: 1\r\n",
      "                 Class     Images  Instances          P          R      mAP50   \r\n",
      "                   all         13         13      0.976      0.615      0.826      0.304\r\n",
      "\r\n",
      "      Epoch    GPU_mem   box_loss   obj_loss   cls_loss  Instances       Size\r\n",
      "      62/99         0G    0.02881   0.006662          0          8        640: 1\r\n",
      "                 Class     Images  Instances          P          R      mAP50   \r\n",
      "                   all         13         13          1      0.723      0.914      0.344\r\n",
      "\r\n",
      "      Epoch    GPU_mem   box_loss   obj_loss   cls_loss  Instances       Size\r\n",
      "      63/99         0G    0.02479   0.005045          0          8        640: 1\r\n",
      "                 Class     Images  Instances          P          R      mAP50   \r\n",
      "                   all         13         13      0.932      0.692      0.909      0.353\r\n",
      "\r\n",
      "      Epoch    GPU_mem   box_loss   obj_loss   cls_loss  Instances       Size\r\n",
      "      64/99         0G    0.03164    0.00544          0          8        640: 1\r\n",
      "                 Class     Images  Instances          P          R      mAP50   \r\n",
      "                   all         13         13      0.847      0.769      0.886      0.309\r\n",
      "\r\n",
      "      Epoch    GPU_mem   box_loss   obj_loss   cls_loss  Instances       Size\r\n",
      "      65/99         0G    0.02778   0.005497          0         10        640: 1\r\n",
      "                 Class     Images  Instances          P          R      mAP50   \r\n",
      "                   all         13         13      0.899      0.687      0.818      0.297\r\n",
      "\r\n",
      "      Epoch    GPU_mem   box_loss   obj_loss   cls_loss  Instances       Size\r\n",
      "      66/99         0G    0.02654   0.004695          0          9        640: 1\r\n",
      "                 Class     Images  Instances          P          R      mAP50   \r\n",
      "                   all         13         13      0.975      0.769      0.915      0.311\r\n",
      "\r\n",
      "      Epoch    GPU_mem   box_loss   obj_loss   cls_loss  Instances       Size\r\n",
      "      67/99         0G    0.02654   0.006575          0         10        640: 1\r\n",
      "                 Class     Images  Instances          P          R      mAP50   \r\n",
      "                   all         13         13      0.975      0.769      0.922      0.361\r\n",
      "\r\n",
      "      Epoch    GPU_mem   box_loss   obj_loss   cls_loss  Instances       Size\r\n",
      "      68/99         0G     0.0282   0.006494          0          7        640: 1\r\n",
      "                 Class     Images  Instances          P          R      mAP50   \r\n",
      "                   all         13         13      0.801      0.846      0.919      0.286\r\n",
      "\r\n",
      "      Epoch    GPU_mem   box_loss   obj_loss   cls_loss  Instances       Size\r\n",
      "      69/99         0G    0.02732   0.005057          0         12        640: 1\r\n",
      "                 Class     Images  Instances          P          R      mAP50   \r\n",
      "                   all         13         13      0.907      0.754       0.92      0.403\r\n",
      "\r\n",
      "      Epoch    GPU_mem   box_loss   obj_loss   cls_loss  Instances       Size\r\n",
      "      70/99         0G     0.0242   0.004877          0          7        640: 1\r\n",
      "                 Class     Images  Instances          P          R      mAP50   \r\n",
      "                   all         13         13      0.886      0.769      0.896      0.269\r\n",
      "\r\n",
      "      Epoch    GPU_mem   box_loss   obj_loss   cls_loss  Instances       Size\r\n",
      "      71/99         0G    0.02823   0.005529          0          6        640: 1\r\n",
      "                 Class     Images  Instances          P          R      mAP50   \r\n",
      "                   all         13         13      0.782      0.769      0.895      0.394\r\n",
      "\r\n",
      "      Epoch    GPU_mem   box_loss   obj_loss   cls_loss  Instances       Size\r\n",
      "      72/99         0G    0.02525   0.005694          0          9        640: 1\r\n",
      "                 Class     Images  Instances          P          R      mAP50   \r\n",
      "                   all         13         13      0.791      0.875      0.928      0.411\r\n",
      "\r\n",
      "      Epoch    GPU_mem   box_loss   obj_loss   cls_loss  Instances       Size\r\n",
      "      73/99         0G    0.02535   0.006188          0          5        640: 1\r\n",
      "                 Class     Images  Instances          P          R      mAP50   \r\n",
      "                   all         13         13          1      0.763      0.938       0.37\r\n",
      "\r\n",
      "      Epoch    GPU_mem   box_loss   obj_loss   cls_loss  Instances       Size\r\n",
      "      74/99         0G    0.02399   0.005156          0          8        640: 1\r\n",
      "                 Class     Images  Instances          P          R      mAP50   \r\n",
      "                   all         13         13       0.78      0.821       0.86      0.314\r\n",
      "\r\n",
      "      Epoch    GPU_mem   box_loss   obj_loss   cls_loss  Instances       Size\r\n",
      "      75/99         0G    0.02179   0.005822          0          8        640: 1\r\n",
      "                 Class     Images  Instances          P          R      mAP50   \r\n",
      "                   all         13         13      0.983      0.846      0.961      0.398\r\n",
      "\r\n",
      "      Epoch    GPU_mem   box_loss   obj_loss   cls_loss  Instances       Size\r\n",
      "      76/99         0G    0.02633    0.00523          0          3        640: 1\r\n",
      "                 Class     Images  Instances          P          R      mAP50   \r\n",
      "                   all         13         13      0.943      0.846      0.967      0.363\r\n",
      "\r\n",
      "      Epoch    GPU_mem   box_loss   obj_loss   cls_loss  Instances       Size\r\n",
      "      77/99         0G    0.02459   0.005061          0          5        640: 1\r\n",
      "                 Class     Images  Instances          P          R      mAP50   \r\n",
      "                   all         13         13      0.871      0.769      0.874      0.315\r\n",
      "\r\n",
      "      Epoch    GPU_mem   box_loss   obj_loss   cls_loss  Instances       Size\r\n",
      "      78/99         0G    0.02761   0.005138          0          6        640: 1\r\n",
      "                 Class     Images  Instances          P          R      mAP50   \r\n",
      "                   all         13         13      0.919      0.868      0.969        0.3\r\n",
      "\r\n",
      "      Epoch    GPU_mem   box_loss   obj_loss   cls_loss  Instances       Size\r\n",
      "      79/99         0G    0.02619   0.005539          0          5        640: 1\r\n",
      "                 Class     Images  Instances          P          R      mAP50   \r\n",
      "                   all         13         13      0.987      0.846      0.961      0.365\r\n",
      "\r\n",
      "      Epoch    GPU_mem   box_loss   obj_loss   cls_loss  Instances       Size\r\n",
      "      80/99         0G    0.02412   0.005384          0          7        640: 1\r\n",
      "                 Class     Images  Instances          P          R      mAP50   \r\n",
      "                   all         13         13          1      0.829      0.957      0.308\r\n",
      "\r\n",
      "      Epoch    GPU_mem   box_loss   obj_loss   cls_loss  Instances       Size\r\n",
      "      81/99         0G    0.02281   0.005662          0          6        640: 1\r\n",
      "                 Class     Images  Instances          P          R      mAP50   \r\n",
      "                   all         13         13      0.902      0.846       0.95      0.358\r\n",
      "\r\n",
      "      Epoch    GPU_mem   box_loss   obj_loss   cls_loss  Instances       Size\r\n",
      "      82/99         0G    0.02071   0.005106          0          9        640: 1\r\n",
      "                 Class     Images  Instances          P          R      mAP50   \r\n",
      "                   all         13         13      0.915      0.834      0.948      0.383\r\n",
      "\r\n",
      "      Epoch    GPU_mem   box_loss   obj_loss   cls_loss  Instances       Size\r\n",
      "      83/99         0G    0.02206   0.005094          0          4        640: 1\r\n",
      "                 Class     Images  Instances          P          R      mAP50   \r\n",
      "                   all         13         13      0.913      0.812      0.942      0.355\r\n",
      "\r\n",
      "      Epoch    GPU_mem   box_loss   obj_loss   cls_loss  Instances       Size\r\n",
      "      84/99         0G    0.02136   0.005205          0          8        640: 1\r\n",
      "                 Class     Images  Instances          P          R      mAP50   \r\n",
      "                   all         13         13          1      0.766      0.929      0.315\r\n",
      "\r\n",
      "      Epoch    GPU_mem   box_loss   obj_loss   cls_loss  Instances       Size\r\n",
      "      85/99         0G    0.02538   0.005412          0          8        640: 1\r\n",
      "                 Class     Images  Instances          P          R      mAP50   \r\n",
      "                   all         13         13          1      0.748       0.93      0.354\r\n",
      "\r\n",
      "      Epoch    GPU_mem   box_loss   obj_loss   cls_loss  Instances       Size\r\n",
      "      86/99         0G    0.02618   0.004581          0          5        640: 1\r\n",
      "                 Class     Images  Instances          P          R      mAP50   \r\n",
      "                   all         13         13      0.987      0.692      0.916      0.346\r\n",
      "\r\n",
      "      Epoch    GPU_mem   box_loss   obj_loss   cls_loss  Instances       Size\r\n",
      "      87/99         0G    0.02229    0.00468          0          5        640: 1\r\n",
      "                 Class     Images  Instances          P          R      mAP50   \r\n",
      "                   all         13         13      0.991      0.692      0.903      0.368\r\n",
      "\r\n",
      "      Epoch    GPU_mem   box_loss   obj_loss   cls_loss  Instances       Size\r\n",
      "      88/99         0G    0.02107   0.004439          0          6        640: 1\r\n",
      "                 Class     Images  Instances          P          R      mAP50   \r\n",
      "                   all         13         13      0.908      0.758      0.891      0.327\r\n",
      "\r\n",
      "      Epoch    GPU_mem   box_loss   obj_loss   cls_loss  Instances       Size\r\n",
      "      89/99         0G    0.02413   0.005004          0          6        640: 1\r\n",
      "                 Class     Images  Instances          P          R      mAP50   \r\n",
      "                   all         13         13      0.993      0.692      0.866      0.309\r\n",
      "\r\n",
      "      Epoch    GPU_mem   box_loss   obj_loss   cls_loss  Instances       Size\r\n",
      "      90/99         0G    0.02352   0.004634          0          6        640: 1\r\n",
      "                 Class     Images  Instances          P          R      mAP50   \r\n",
      "                   all         13         13          1      0.748      0.872      0.339\r\n",
      "\r\n",
      "      Epoch    GPU_mem   box_loss   obj_loss   cls_loss  Instances       Size\r\n",
      "      91/99         0G    0.02415   0.005071          0          4        640: 1\r\n",
      "                 Class     Images  Instances          P          R      mAP50   \r\n",
      "                   all         13         13          1      0.754      0.876       0.36\r\n",
      "\r\n",
      "      Epoch    GPU_mem   box_loss   obj_loss   cls_loss  Instances       Size\r\n",
      "      92/99         0G    0.02408   0.004597          0          5        640: 1\r\n",
      "                 Class     Images  Instances          P          R      mAP50   \r\n",
      "                   all         13         13          1      0.754      0.879      0.362\r\n",
      "\r\n",
      "      Epoch    GPU_mem   box_loss   obj_loss   cls_loss  Instances       Size\r\n",
      "      93/99         0G    0.02142   0.005391          0          6        640: 1\r\n",
      "                 Class     Images  Instances          P          R      mAP50   \r\n",
      "                   all         13         13          1      0.754      0.885      0.395\r\n",
      "\r\n",
      "      Epoch    GPU_mem   box_loss   obj_loss   cls_loss  Instances       Size\r\n",
      "      94/99         0G    0.02091   0.004779          0          8        640: 1\r\n",
      "                 Class     Images  Instances          P          R      mAP50   \r\n",
      "                   all         13         13          1      0.756       0.88      0.337\r\n",
      "\r\n",
      "      Epoch    GPU_mem   box_loss   obj_loss   cls_loss  Instances       Size\r\n",
      "      95/99         0G    0.01908   0.005314          0          9        640: 1\r\n",
      "                 Class     Images  Instances          P          R      mAP50   \r\n",
      "                   all         13         13          1      0.756      0.895      0.384\r\n",
      "\r\n",
      "      Epoch    GPU_mem   box_loss   obj_loss   cls_loss  Instances       Size\r\n",
      "      96/99         0G     0.0215   0.005379          0          7        640: 1\r\n",
      "                 Class     Images  Instances          P          R      mAP50   \r\n",
      "                   all         13         13          1      0.758      0.899      0.359\r\n",
      "\r\n",
      "      Epoch    GPU_mem   box_loss   obj_loss   cls_loss  Instances       Size\r\n",
      "      97/99         0G    0.01928   0.004235          0          3        640: 1\r\n",
      "                 Class     Images  Instances          P          R      mAP50   \r\n",
      "                   all         13         13          1      0.757      0.899       0.38\r\n",
      "\r\n",
      "      Epoch    GPU_mem   box_loss   obj_loss   cls_loss  Instances       Size\r\n",
      "      98/99         0G    0.02481   0.006227          0          8        640: 1\r\n",
      "                 Class     Images  Instances          P          R      mAP50   \r\n",
      "                   all         13         13          1       0.76      0.901      0.381\r\n",
      "\r\n",
      "      Epoch    GPU_mem   box_loss   obj_loss   cls_loss  Instances       Size\r\n",
      "      99/99         0G    0.02123   0.005726          0          9        640: 1\r\n",
      "                 Class     Images  Instances          P          R      mAP50   \r\n",
      "                   all         13         13          1      0.761      0.907      0.384\r\n",
      "\r\n",
      "100 epochs completed in 1.962 hours.\r\n",
      "Optimizer stripped from runs/train/Model/weights/last.pt, 14.3MB\r\n",
      "Optimizer stripped from runs/train/Model/weights/best.pt, 14.3MB\r\n",
      "\r\n",
      "Validating runs/train/Model/weights/best.pt...\r\n",
      "Fusing layers... \r\n",
      "YOLOv5s summary: 157 layers, 7012822 parameters, 0 gradients, 15.8 GFLOPs\r\n",
      "                 Class     Images  Instances          P          R      mAP50   \r\n",
      "                   all         13         13      0.791      0.877      0.928      0.411\r\n",
      "Results saved to \u001b[1mruns/train/Model\u001b[0m\r\n"
     ]
    }
   ],
   "source": [
    "!python train.py --data /kaggle/input/ball-yaml/dataset.yaml --cfg yolov5s.yaml --batch-size 32 --name Model --epochs 100"
   ]
  },
  {
   "cell_type": "code",
   "execution_count": 31,
   "id": "8519773c",
   "metadata": {
    "execution": {
     "iopub.execute_input": "2023-08-23T02:34:50.163843Z",
     "iopub.status.busy": "2023-08-23T02:34:50.163258Z",
     "iopub.status.idle": "2023-08-23T02:34:51.199180Z",
     "shell.execute_reply": "2023-08-23T02:34:51.197801Z"
    },
    "papermill": {
     "duration": 1.099986,
     "end_time": "2023-08-23T02:34:51.201920",
     "exception": false,
     "start_time": "2023-08-23T02:34:50.101934",
     "status": "completed"
    },
    "tags": []
   },
   "outputs": [
    {
     "name": "stdout",
     "output_type": "stream",
     "text": [
      "CITATION.cff     \u001b[0m\u001b[01;34m__pycache__\u001b[0m/   export.py         \u001b[01;34msegment\u001b[0m/        val.py\r\n",
      "CONTRIBUTING.md  benchmarks.py  hubconf.py        setup.cfg       yolov5s.pt\r\n",
      "LICENSE          \u001b[01;34mclassify\u001b[0m/      \u001b[01;34mmodels\u001b[0m/           train.py\r\n",
      "README.md        \u001b[01;34mdata\u001b[0m/          requirements.txt  tutorial.ipynb\r\n",
      "README.zh-CN.md  detect.py      \u001b[01;34mruns\u001b[0m/             \u001b[01;34mutils\u001b[0m/\r\n"
     ]
    }
   ],
   "source": [
    "ls"
   ]
  }
 ],
 "metadata": {
  "kernelspec": {
   "display_name": "Python 3",
   "language": "python",
   "name": "python3"
  },
  "language_info": {
   "codemirror_mode": {
    "name": "ipython",
    "version": 3
   },
   "file_extension": ".py",
   "mimetype": "text/x-python",
   "name": "python",
   "nbconvert_exporter": "python",
   "pygments_lexer": "ipython3",
   "version": "3.10.12"
  },
  "papermill": {
   "default_parameters": {},
   "duration": 7185.458385,
   "end_time": "2023-08-23T02:34:52.402372",
   "environment_variables": {},
   "exception": null,
   "input_path": "__notebook__.ipynb",
   "output_path": "__notebook__.ipynb",
   "parameters": {},
   "start_time": "2023-08-23T00:35:06.943987",
   "version": "2.4.0"
  }
 },
 "nbformat": 4,
 "nbformat_minor": 5
}
